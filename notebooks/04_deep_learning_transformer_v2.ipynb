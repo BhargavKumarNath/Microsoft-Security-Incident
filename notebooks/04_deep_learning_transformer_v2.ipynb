{
 "cells": [
  {
   "cell_type": "code",
   "execution_count": 1,
   "id": "2364df8d",
   "metadata": {},
   "outputs": [],
   "source": [
    "import polars as pl\n",
    "import numpy as np\n",
    "import pickle\n",
    "from pathlib import Path"
   ]
  },
  {
   "cell_type": "code",
   "execution_count": 2,
   "id": "b6571e0b",
   "metadata": {},
   "outputs": [],
   "source": [
    "RAW_TRAIN_PATH = '../data/raw/GUIDE_Train.parquet'\n",
    "PROCESSED_INCIDENT_FEATURES_PATH = '../data/processed/incident_features.parquet'\n",
    "DL_PROCESSED_DATA_DIR = Path('../data/processed_dl/')\n",
    "DL_PROCESSED_DATA_DIR.mkdir(exist_ok=True)\n",
    "\n",
    "MAX_SEQ_LENGTH = 128"
   ]
  },
  {
   "cell_type": "code",
   "execution_count": null,
   "id": "43ba07de",
   "metadata": {},
   "outputs": [
    {
     "name": "stdout",
     "output_type": "stream",
     "text": [
      "--- Phase 4.1: Preparing Data for Sequence Modeling ---\n",
      "Loading raw and processed data...\n"
     ]
    }
   ],
   "source": [
    "print(\"--- Phase 4.1: Preparing Data for Sequence Modeling ---\")\n",
    "\n",
    "#  1. Load Data \n",
    "print(\"Loading raw and processed data...\")\n",
    "raw_df = pl.read_parquet(RAW_TRAIN_PATH)\n",
    "incident_features_df = pl.read_parquet(PROCESSED_INCIDENT_FEATURES_PATH)\n",
    "\n",
    "sequential_features = [\n",
    "    'Category',\n",
    "    'DetectorId',\n",
    "    'EntityType',\n",
    "    'MitreTechniques' \n",
    "]\n",
    "\n",
    "static_features = [\n",
    "    'OrgId',\n",
    "    'evidence_count',\n",
    "    'unique_alert_count',\n",
    "    'incident_duration_seconds',\n",
    "    'evidence_rate',\n",
    "    'alert_rate'\n",
    "]\n"
   ]
  },
  {
   "cell_type": "code",
   "execution_count": 4,
   "id": "bbb77f40",
   "metadata": {},
   "outputs": [
    {
     "name": "stdout",
     "output_type": "stream",
     "text": [
      "Creating vocabularies for sequential features...\n",
      "  Vocabulary for 'Category' has 21 unique tokens.\n",
      "  Vocabulary for 'DetectorId' has 8429 unique tokens.\n",
      "  Vocabulary for 'EntityType' has 34 unique tokens.\n",
      "  Vocabulary for 'MitreTechniques' has 1195 unique tokens.\n"
     ]
    }
   ],
   "source": [
    "print(\"Creating vocabularies for sequential features...\")\n",
    "vocabularies = {}\n",
    "for col in sequential_features:\n",
    "    unique_vals = raw_df[col].fill_null('[NULL]').unique().to_list()\n",
    "    vocab = {val: i + 1 for i, val in enumerate(unique_vals)}\n",
    "    vocab['[PAD]'] = 0  # Padding token\n",
    "    vocabularies[col] = vocab\n",
    "    print(f\"  Vocabulary for '{col}' has {len(vocab)} unique tokens.\")\n",
    "\n",
    "with open(DL_PROCESSED_DATA_DIR / 'vocabularies.pkl', 'wb') as f:\n",
    "    pickle.dump(vocabularies, f)\n"
   ]
  },
  {
   "cell_type": "code",
   "execution_count": null,
   "id": "59516c4c",
   "metadata": {},
   "outputs": [
    {
     "name": "stdout",
     "output_type": "stream",
     "text": [
      "Grouping by IncidentId and creating tokenized sequences...\n",
      "Tokenization complete.\n",
      "Shape of sequential data: (466151, 5)\n"
     ]
    }
   ],
   "source": [
    "print(\"Grouping by IncidentId and creating tokenized sequences...\")\n",
    "\n",
    "def tokenize_and_pad_list(values_list: list, vocab: dict) -> list:\n",
    "    tokens = [vocab.get(val, 0) for val in values_list] \n",
    "    tokens = tokens[:MAX_SEQ_LENGTH]\n",
    "    padding_needed = MAX_SEQ_LENGTH - len(tokens)\n",
    "    return tokens + [vocab['[PAD]']] * padding_needed\n",
    "\n",
    "sequential_data = (\n",
    "    raw_df.sort(['IncidentId', 'Timestamp'])\n",
    "          .group_by('IncidentId')\n",
    "          .agg([\n",
    "              pl.col(col).fill_null('[NULL]').alias(f'{col}_list')\n",
    "              for col in sequential_features\n",
    "          ])\n",
    ")\n",
    "\n",
    "for col in sequential_features:\n",
    "    sequential_data = sequential_data.with_columns(\n",
    "        pl.col(f'{col}_list').map_elements(\n",
    "            lambda values_list: tokenize_and_pad_list(values_list, vocabularies[col]),\n",
    "            return_dtype=pl.List(pl.Int32)\n",
    "        ).alias(f'{col}_seq')\n",
    "    ).drop(f'{col}_list')\n",
    "\n",
    "print(\"Tokenization complete.\")\n",
    "print(\"Shape of sequential data:\", sequential_data.shape)"
   ]
  },
  {
   "cell_type": "code",
   "execution_count": 6,
   "id": "80052aef",
   "metadata": {},
   "outputs": [
    {
     "name": "stdout",
     "output_type": "stream",
     "text": [
      "Preparing static features and labels...\n"
     ]
    }
   ],
   "source": [
    "print(\"Preparing static features and labels...\")\n",
    "org_id_map = raw_df.group_by('IncidentId').agg(pl.first('OrgId'))\n",
    "\n",
    "final_dl_data = (\n",
    "    sequential_data.join(incident_features_df, on='IncidentId', how='left').join(org_id_map, on='IncidentId', how='left')\n",
    ")\n",
    "\n",
    "label_col = 'IncidentGrade'\n",
    "final_dl_data = final_dl_data.select(\n",
    "    ['IncidentId', label_col] + [f'{col}_seq' for col in sequential_features] + static_features\n",
    ").drop_nulls()"
   ]
  },
  {
   "cell_type": "code",
   "execution_count": 7,
   "id": "2bc184f7",
   "metadata": {},
   "outputs": [
    {
     "name": "stdout",
     "output_type": "stream",
     "text": [
      "Saving final processed dataset for PyTorch to ..\\data\\processed_dl\n",
      "\n",
      " Data Preparation Complete\n",
      "Final dataset shape: (567609, 12)\n",
      "\n",
      "Schema of the final dataframe:\n",
      "Schema({'IncidentId': Int64, 'IncidentGrade': String, 'Category_seq': List(Int32), 'DetectorId_seq': List(Int32), 'EntityType_seq': List(Int32), 'MitreTechniques_seq': List(Int32), 'OrgId': Int64, 'evidence_count': UInt32, 'unique_alert_count': UInt32, 'incident_duration_seconds': Int64, 'evidence_rate': Float64, 'alert_rate': Float64})\n",
      "\n",
      "Example of a processed incident:\n",
      "shape: (1, 12)\n",
      "┌───────────┬───────────┬───────────┬───────────┬───┬───────────┬───────────┬───────────┬──────────┐\n",
      "│ IncidentI ┆ IncidentG ┆ Category_ ┆ DetectorI ┆ … ┆ unique_al ┆ incident_ ┆ evidence_ ┆ alert_ra │\n",
      "│ d         ┆ rade      ┆ seq       ┆ d_seq     ┆   ┆ ert_count ┆ duration_ ┆ rate      ┆ te       │\n",
      "│ ---       ┆ ---       ┆ ---       ┆ ---       ┆   ┆ ---       ┆ seconds   ┆ ---       ┆ ---      │\n",
      "│ i64       ┆ str       ┆ list[i32] ┆ list[i32] ┆   ┆ u32       ┆ ---       ┆ f64       ┆ f64      │\n",
      "│           ┆           ┆           ┆           ┆   ┆           ┆ i64       ┆           ┆          │\n",
      "╞═══════════╪═══════════╪═══════════╪═══════════╪═══╪═══════════╪═══════════╪═══════════╪══════════╡\n",
      "│ 0         ┆ TruePosit ┆ [16, 16,  ┆ [3104,    ┆ … ┆ 3027      ┆ 825528    ┆ 0.036337  ┆ 0.003667 │\n",
      "│           ┆ ive       ┆ … 16]     ┆ 3104, …   ┆   ┆           ┆           ┆           ┆          │\n",
      "│           ┆           ┆           ┆ 3104]     ┆   ┆           ┆           ┆           ┆          │\n",
      "└───────────┴───────────┴───────────┴───────────┴───┴───────────┴───────────┴───────────┴──────────┘\n"
     ]
    }
   ],
   "source": [
    "# Save the final processed dataset\n",
    "print(f\"Saving final processed dataset for PyTorch to {DL_PROCESSED_DATA_DIR}\")\n",
    "final_dl_data.write_parquet(DL_PROCESSED_DATA_DIR / 'train_sequential_data.parquet')\n",
    "\n",
    "print(\"\\n Data Preparation Complete\")\n",
    "print(\"Final dataset shape:\", final_dl_data.shape)\n",
    "print(\"\\nSchema of the final dataframe:\")\n",
    "print(final_dl_data.schema)\n",
    "print(\"\\nExample of a processed incident:\")\n",
    "print(final_dl_data.head(1))"
   ]
  },
  {
   "cell_type": "code",
   "execution_count": 8,
   "id": "036c6d19",
   "metadata": {},
   "outputs": [
    {
     "data": {
      "text/html": [
       "<div><style>\n",
       ".dataframe > thead > tr,\n",
       ".dataframe > tbody > tr {\n",
       "  text-align: right;\n",
       "  white-space: pre-wrap;\n",
       "}\n",
       "</style>\n",
       "<small>shape: (5, 12)</small><table border=\"1\" class=\"dataframe\"><thead><tr><th>IncidentId</th><th>IncidentGrade</th><th>Category_seq</th><th>DetectorId_seq</th><th>EntityType_seq</th><th>MitreTechniques_seq</th><th>OrgId</th><th>evidence_count</th><th>unique_alert_count</th><th>incident_duration_seconds</th><th>evidence_rate</th><th>alert_rate</th></tr><tr><td>i64</td><td>str</td><td>list[i32]</td><td>list[i32]</td><td>list[i32]</td><td>list[i32]</td><td>i64</td><td>u32</td><td>u32</td><td>i64</td><td>f64</td><td>f64</td></tr></thead><tbody><tr><td>0</td><td>&quot;TruePositive&quot;</td><td>[16, 16, … 16]</td><td>[3104, 3104, … 3104]</td><td>[2, 2, … 2]</td><td>[840, 840, … 840]</td><td>50</td><td>29997</td><td>3027</td><td>825528</td><td>0.036337</td><td>0.003667</td></tr><tr><td>2</td><td>&quot;TruePositive&quot;</td><td>[17, 17, … 17]</td><td>[2429, 2429, … 2429]</td><td>[6, 28, … 28]</td><td>[1053, 1053, … 1053]</td><td>42</td><td>20525</td><td>5372</td><td>252222</td><td>0.081377</td><td>0.021299</td></tr><tr><td>2</td><td>&quot;BenignPositive&quot;</td><td>[17, 17, … 17]</td><td>[2429, 2429, … 2429]</td><td>[6, 28, … 28]</td><td>[1053, 1053, … 1053]</td><td>42</td><td>20525</td><td>5372</td><td>252222</td><td>0.081377</td><td>0.021299</td></tr><tr><td>3</td><td>&quot;TruePositive&quot;</td><td>[5, 5, … 0]</td><td>[6926, 6926, … 0]</td><td>[29, 10, … 0]</td><td>[1053, 1053, … 0]</td><td>457</td><td>3</td><td>1</td><td>1</td><td>3.0</td><td>1.0</td></tr><tr><td>7</td><td>&quot;FalsePositive&quot;</td><td>[18, 18, … 18]</td><td>[1460, 1460, … 1460]</td><td>[2, 2, … 2]</td><td>[1053, 1053, … 1053]</td><td>14</td><td>12252</td><td>73</td><td>1932573</td><td>0.00634</td><td>0.000038</td></tr></tbody></table></div>"
      ],
      "text/plain": [
       "shape: (5, 12)\n",
       "┌───────────┬───────────┬───────────┬───────────┬───┬───────────┬───────────┬───────────┬──────────┐\n",
       "│ IncidentI ┆ IncidentG ┆ Category_ ┆ DetectorI ┆ … ┆ unique_al ┆ incident_ ┆ evidence_ ┆ alert_ra │\n",
       "│ d         ┆ rade      ┆ seq       ┆ d_seq     ┆   ┆ ert_count ┆ duration_ ┆ rate      ┆ te       │\n",
       "│ ---       ┆ ---       ┆ ---       ┆ ---       ┆   ┆ ---       ┆ seconds   ┆ ---       ┆ ---      │\n",
       "│ i64       ┆ str       ┆ list[i32] ┆ list[i32] ┆   ┆ u32       ┆ ---       ┆ f64       ┆ f64      │\n",
       "│           ┆           ┆           ┆           ┆   ┆           ┆ i64       ┆           ┆          │\n",
       "╞═══════════╪═══════════╪═══════════╪═══════════╪═══╪═══════════╪═══════════╪═══════════╪══════════╡\n",
       "│ 0         ┆ TruePosit ┆ [16, 16,  ┆ [3104,    ┆ … ┆ 3027      ┆ 825528    ┆ 0.036337  ┆ 0.003667 │\n",
       "│           ┆ ive       ┆ … 16]     ┆ 3104, …   ┆   ┆           ┆           ┆           ┆          │\n",
       "│           ┆           ┆           ┆ 3104]     ┆   ┆           ┆           ┆           ┆          │\n",
       "│ 2         ┆ TruePosit ┆ [17, 17,  ┆ [2429,    ┆ … ┆ 5372      ┆ 252222    ┆ 0.081377  ┆ 0.021299 │\n",
       "│           ┆ ive       ┆ … 17]     ┆ 2429, …   ┆   ┆           ┆           ┆           ┆          │\n",
       "│           ┆           ┆           ┆ 2429]     ┆   ┆           ┆           ┆           ┆          │\n",
       "│ 2         ┆ BenignPos ┆ [17, 17,  ┆ [2429,    ┆ … ┆ 5372      ┆ 252222    ┆ 0.081377  ┆ 0.021299 │\n",
       "│           ┆ itive     ┆ … 17]     ┆ 2429, …   ┆   ┆           ┆           ┆           ┆          │\n",
       "│           ┆           ┆           ┆ 2429]     ┆   ┆           ┆           ┆           ┆          │\n",
       "│ 3         ┆ TruePosit ┆ [5, 5, …  ┆ [6926,    ┆ … ┆ 1         ┆ 1         ┆ 3.0       ┆ 1.0      │\n",
       "│           ┆ ive       ┆ 0]        ┆ 6926, …   ┆   ┆           ┆           ┆           ┆          │\n",
       "│           ┆           ┆           ┆ 0]        ┆   ┆           ┆           ┆           ┆          │\n",
       "│ 7         ┆ FalsePosi ┆ [18, 18,  ┆ [1460,    ┆ … ┆ 73        ┆ 1932573   ┆ 0.00634   ┆ 0.000038 │\n",
       "│           ┆ tive      ┆ … 18]     ┆ 1460, …   ┆   ┆           ┆           ┆           ┆          │\n",
       "│           ┆           ┆           ┆ 1460]     ┆   ┆           ┆           ┆           ┆          │\n",
       "└───────────┴───────────┴───────────┴───────────┴───┴───────────┴───────────┴───────────┴──────────┘"
      ]
     },
     "execution_count": 8,
     "metadata": {},
     "output_type": "execute_result"
    }
   ],
   "source": [
    "final_dl_data.head()"
   ]
  },
  {
   "cell_type": "markdown",
   "id": "cd753def",
   "metadata": {},
   "source": [
    "# Transformer"
   ]
  },
  {
   "cell_type": "code",
   "execution_count": 1,
   "id": "026b4f5d",
   "metadata": {},
   "outputs": [],
   "source": [
    "import torch\n",
    "import torch.nn as nn\n",
    "from torch.utils.data import Dataset, DataLoader\n",
    "import pytorch_lightning as pl\n",
    "import pandas as pd\n",
    "import numpy as np\n",
    "from pathlib import Path\n",
    "import pickle"
   ]
  },
  {
   "cell_type": "code",
   "execution_count": 2,
   "id": "ae16fb15",
   "metadata": {},
   "outputs": [],
   "source": [
    "# Configuration \n",
    "DL_PROCESSED_DATA_DIR = Path('../data/processed_dl/')\n",
    "VOCAB_PATH = DL_PROCESSED_DATA_DIR / 'vocabularies.pkl'\n",
    "TRAIN_DATA_PATH = DL_PROCESSED_DATA_DIR / 'train_sequential_data.parquet'"
   ]
  },
  {
   "cell_type": "code",
   "execution_count": null,
   "id": "74ac2573",
   "metadata": {},
   "outputs": [],
   "source": [
    "torch.set_float32_matmul_precision('medium')  \n",
    "torch.backends.cudnn.benchmark = True  "
   ]
  },
  {
   "cell_type": "code",
   "execution_count": 4,
   "id": "3c7d8083",
   "metadata": {},
   "outputs": [],
   "source": [
    "# PyTorch Dataset Class\n",
    "class OptimizedIncidentDataset(Dataset):\n",
    "    def __init__(self, data_path, vocab_path):\n",
    "        super().__init__()\n",
    "        print(\"Loading data...\")\n",
    "        self.df = pd.read_parquet(data_path)\n",
    "        \n",
    "        with open(vocab_path, 'rb') as f:\n",
    "            self.vocabs = pickle.load(f)\n",
    "        \n",
    "        self.labels, self.class_names = pd.factorize(self.df['IncidentGrade'])\n",
    "        \n",
    "        # Define feature columns\n",
    "        self.sequential_cols = [c for c in self.df.columns if '_seq' in c]\n",
    "        self.static_cols = [\n",
    "            'OrgId', 'evidence_count', 'unique_alert_count', \n",
    "            'incident_duration_seconds', 'evidence_rate', 'alert_rate'\n",
    "        ]\n",
    "        \n",
    "        # Pre-convert data to tensors for faster access\n",
    "        print(\"Pre-processing tensors...\")\n",
    "        self._preprocess_data()\n",
    "        print(\"Data preprocessing complete!\")\n",
    "    \n",
    "    def _preprocess_data(self):\n",
    "        self.sequences_cache = {}\n",
    "        self.static_cache = torch.zeros((len(self.df), len(self.static_cols)), dtype=torch.float32)\n",
    "        self.labels_cache = torch.tensor(self.labels, dtype=torch.long)\n",
    "        \n",
    "        # Cache sequential data\n",
    "        for col in self.sequential_cols:\n",
    "            self.sequences_cache[col] = [torch.tensor(seq, dtype=torch.long) for seq in self.df[col]]\n",
    "        \n",
    "        # Cache static data\n",
    "        for i, col in enumerate(self.static_cols):\n",
    "            self.static_cache[:, i] = torch.tensor(self.df[col].values, dtype=torch.float32)\n",
    "    \n",
    "    def __len__(self):\n",
    "        return len(self.df)\n",
    "    \n",
    "    def __getitem__(self, idx):\n",
    "        sequences = {col: self.sequences_cache[col][idx] for col in self.sequential_cols}\n",
    "        static_data = self.static_cache[idx]\n",
    "        label = self.labels_cache[idx]\n",
    "        \n",
    "        return sequences, static_data, label"
   ]
  },
  {
   "cell_type": "code",
   "execution_count": 5,
   "id": "ead89101",
   "metadata": {},
   "outputs": [],
   "source": [
    "# 2. Model Architecture\n",
    "class IncidentTransformer(nn.Module):\n",
    "    def __init__(self, vocab_sizes, num_static_features, num_classes, embed_dim=64, nhead=4, num_encoder_layers=2, dim_feedforward=256, dropout=0.1):\n",
    "        super().__init__()\n",
    "        self.vocab_sizes = vocab_sizes\n",
    "        \n",
    "        self.embeddings = nn.ModuleDict({\n",
    "            f'embed_{name}': nn.Embedding(size, embed_dim, padding_idx=0)\n",
    "            for name, size in vocab_sizes.items()\n",
    "        })\n",
    "        \n",
    "        total_seq_embed_dim = embed_dim * len(vocab_sizes) \n",
    "        \n",
    "        # Transformer Encoder \n",
    "        encoder_layer = nn.TransformerEncoderLayer(\n",
    "            d_model=total_seq_embed_dim, nhead=nhead, \n",
    "            dim_feedforward=dim_feedforward, dropout=dropout, batch_first=True\n",
    "        )\n",
    "        self.transformer_encoder = nn.TransformerEncoder(encoder_layer, num_layers=num_encoder_layers)\n",
    "        \n",
    "        # MLP for Static Features \n",
    "        self.static_mlp = nn.Sequential(\n",
    "            nn.Linear(num_static_features, embed_dim * 2),\n",
    "            nn.BatchNorm1d(embed_dim * 2),\n",
    "            nn.ReLU(),\n",
    "            nn.Dropout(dropout),\n",
    "            nn.Linear(embed_dim * 2, embed_dim)\n",
    "        )\n",
    "        \n",
    "        # Final Classifier\n",
    "        self.classifier = nn.Sequential(\n",
    "            nn.Linear(total_seq_embed_dim + embed_dim, embed_dim),\n",
    "            nn.ReLU(),\n",
    "            nn.Linear(embed_dim, num_classes)\n",
    "        )\n",
    "\n",
    "    def forward(self, sequences, static_data):\n",
    "        # 1. Process Sequences\n",
    "        all_embeds = [self.embeddings[f'embed_{name}'](sequences[f'{name}_seq']) \n",
    "                      for name in self.vocab_sizes.keys()]\n",
    "        concatenated_embeds = torch.cat(all_embeds, dim=2)\n",
    "        \n",
    "        padding_mask = (sequences['Category_seq'] == 0) \n",
    "\n",
    "        transformer_out = self.transformer_encoder(concatenated_embeds, src_key_padding_mask=padding_mask)\n",
    "        \n",
    "        transformer_out[padding_mask] = 0 \n",
    "        pooled_out = transformer_out.sum(dim=1) / (~padding_mask).sum(dim=1, keepdim=True)\n",
    "\n",
    "        # 2. Process Static Features\n",
    "        static_out = self.static_mlp(static_data)\n",
    "        \n",
    "        # 3. Combine and Classify\n",
    "        combined = torch.cat([pooled_out, static_out], dim=1)\n",
    "        logits = self.classifier(combined)\n",
    "        \n",
    "        return logits"
   ]
  },
  {
   "cell_type": "markdown",
   "id": "6cc3737e",
   "metadata": {},
   "source": [
    "# Train it!"
   ]
  },
  {
   "cell_type": "code",
   "execution_count": 6,
   "id": "dc47b932",
   "metadata": {},
   "outputs": [],
   "source": [
    "import pytorch_lightning as pl\n",
    "from pytorch_lightning.loggers import TensorBoardLogger\n",
    "from torch.utils.data import DataLoader, Subset\n",
    "from sklearn.model_selection import StratifiedGroupKFold\n",
    "import torchmetrics\n"
   ]
  },
  {
   "cell_type": "code",
   "execution_count": 7,
   "id": "cbc903a7",
   "metadata": {},
   "outputs": [],
   "source": [
    "class OptimizedIncidentClassifier(pl.LightningModule):\n",
    "    def __init__(self, model, class_names, learning_rate=1e-4):\n",
    "        super().__init__()\n",
    "        self.model = model\n",
    "        self.class_names = class_names\n",
    "        self.num_classes = len(class_names)\n",
    "        self.learning_rate = learning_rate\n",
    "        \n",
    "        # Loss function with label smoothing for better generalization\n",
    "        self.criterion = nn.CrossEntropyLoss(label_smoothing=0.1)\n",
    "        \n",
    "        # Metrics\n",
    "        self.f1_macro = torchmetrics.F1Score(task='multiclass', num_classes=self.num_classes, average='macro')\n",
    "        self.precision_macro = torchmetrics.Precision(task='multiclass', num_classes=self.num_classes, average='macro')\n",
    "        self.recall_macro = torchmetrics.Recall(task='multiclass', num_classes=self.num_classes, average='macro')\n",
    "        \n",
    "        # Save hyperparameters\n",
    "        self.save_hyperparameters(ignore=['model'])\n",
    "    \n",
    "    def forward(self, sequences, static_data):\n",
    "        return self.model(sequences, static_data)\n",
    "    \n",
    "    def training_step(self, batch, batch_idx):\n",
    "        sequences, static_data, labels = batch\n",
    "        logits = self(sequences, static_data)\n",
    "        loss = self.criterion(logits, labels)\n",
    "        \n",
    "        # Log metrics\n",
    "        self.log('train_loss', loss, on_step=False, on_epoch=True, prog_bar=True, logger=True, sync_dist=True)\n",
    "        return loss\n",
    "    \n",
    "    def validation_step(self, batch, batch_idx):\n",
    "        sequences, static_data, labels = batch\n",
    "        logits = self(sequences, static_data)\n",
    "        loss = self.criterion(logits, labels)\n",
    "        preds = torch.argmax(logits, dim=1)\n",
    "        \n",
    "        # Update metrics\n",
    "        self.f1_macro.update(preds, labels)\n",
    "        self.precision_macro.update(preds, labels)\n",
    "        self.recall_macro.update(preds, labels)\n",
    "        \n",
    "        # Log metrics\n",
    "        self.log('val_loss', loss, prog_bar=True, sync_dist=True)\n",
    "        return {'val_loss': loss, 'preds': preds, 'labels': labels}\n",
    "    \n",
    "    def on_validation_epoch_end(self):\n",
    "        # Compute and log epoch metrics\n",
    "        self.log('val_f1_macro', self.f1_macro.compute(), prog_bar=True, sync_dist=True)\n",
    "        self.log('val_precision', self.precision_macro.compute(), sync_dist=True)\n",
    "        self.log('val_recall', self.recall_macro.compute(), sync_dist=True)\n",
    "        \n",
    "        # Reset metrics\n",
    "        self.f1_macro.reset()\n",
    "        self.precision_macro.reset()\n",
    "        self.recall_macro.reset()\n",
    "    \n",
    "    def configure_optimizers(self):\n",
    "        optimizer = torch.optim.AdamW(\n",
    "            self.parameters(), \n",
    "            lr=self.learning_rate, \n",
    "            weight_decay=0.01,  # L2 regularization\n",
    "            eps=1e-8\n",
    "        )\n",
    "        \n",
    "        # Learning rate scheduler\n",
    "        scheduler = torch.optim.lr_scheduler.ReduceLROnPlateau(\n",
    "            optimizer, \n",
    "            mode='max', \n",
    "            factor=0.5, \n",
    "            patience=2\n",
    "        )\n",
    "        \n",
    "        return {\n",
    "            'optimizer': optimizer,\n",
    "            'lr_scheduler': {\n",
    "                'scheduler': scheduler,\n",
    "                'monitor': 'val_f1_macro',\n",
    "                'frequency': 1\n",
    "            }\n",
    "        }"
   ]
  },
  {
   "cell_type": "code",
   "execution_count": 8,
   "id": "ecf1b660",
   "metadata": {},
   "outputs": [],
   "source": [
    "def collate_fn(batch):\n",
    "    sequences_batch = {}\n",
    "    static_batch = []\n",
    "    labels_batch = []\n",
    "    \n",
    "    # Get all sequence keys from first item\n",
    "    seq_keys = batch[0][0].keys()\n",
    "    \n",
    "    for key in seq_keys:\n",
    "        sequences_batch[key] = torch.stack([item[0][key] for item in batch])\n",
    "    \n",
    "    static_batch = torch.stack([item[1] for item in batch])\n",
    "    labels_batch = torch.stack([item[2] for item in batch])\n",
    "    \n",
    "    return sequences_batch, static_batch, labels_batch"
   ]
  },
  {
   "cell_type": "code",
   "execution_count": null,
   "id": "454f088d",
   "metadata": {},
   "outputs": [
    {
     "name": "stdout",
     "output_type": "stream",
     "text": [
      "Starting Optimized Cross Validation Training for the Transformer Model\n",
      "Creating optimized dataset...\n",
      "Loading data...\n",
      "Pre-processing tensors...\n",
      "Data preprocessing complete!\n",
      "Validating dataset for NaN values...\n",
      "No NaN values found in static features - good!\n",
      "Dataset validation complete.\n"
     ]
    }
   ],
   "source": [
    "print('Starting Optimized Cross Validation Training for the Transformer Model')\n",
    "\n",
    "N_SPLITS = 5\n",
    "BATCH_SIZE = 64  \n",
    "EPOCHS = 15\n",
    "NUM_WORKERS = 0  \n",
    "LEARNING_RATE = 2e-4\n",
    "\n",
    "print(\"Creating optimized dataset...\")\n",
    "dataset = OptimizedIncidentDataset(TRAIN_DATA_PATH, VOCAB_PATH)\n",
    "\n",
    "print(\"Validating dataset for NaN values...\")\n",
    "\n",
    "static_sample = dataset.static_cache[:1000]  \n",
    "if torch.isnan(static_sample).any():\n",
    "    print(\"WARNING: NaN values found in static features!\")\n",
    "    nan_cols = []\n",
    "    for i, col in enumerate(dataset.static_cols):\n",
    "        if torch.isnan(static_sample[:, i]).any():\n",
    "            nan_cols.append(col)\n",
    "    print(f\"Columns with NaN: {nan_cols}\")\n",
    "    \n",
    "    # Replace NaN with 0 or mean\n",
    "    dataset.static_cache = torch.nan_to_num(dataset.static_cache, nan=0.0)\n",
    "    print(\"NaN values replaced with 0.\")\n",
    "else:\n",
    "    print(\"No NaN values found in static features - good!\")\n",
    "\n",
    "print(\"Dataset validation complete.\")\n",
    "\n",
    "\n",
    "# Get model parameters\n",
    "vocab_sizes = {name: len(vocab) for name, vocab in dataset.vocabs.items()}\n",
    "num_static_features = len(dataset.static_cols)\n",
    "num_classes = len(dataset.class_names)\n",
    "\n",
    "# Cross-validation setup\n",
    "groups = dataset.df['OrgId'].values\n",
    "labels_for_split = dataset.labels\n",
    "skf = StratifiedGroupKFold(n_splits=N_SPLITS, shuffle=True, random_state=42)\n",
    "\n",
    "oof_preds = np.zeros(len(dataset))\n",
    "oof_labels = np.zeros(len(dataset))\n"
   ]
  },
  {
   "cell_type": "code",
   "execution_count": 10,
   "id": "90fc4f52",
   "metadata": {},
   "outputs": [],
   "source": [
    "def debug_model_and_data(model, train_loader):\n",
    "    \"\"\"Debug function to identify NaN issues\"\"\"\n",
    "    print(\"=== DEBUGGING NAN ISSUES ===\")\n",
    "    \n",
    "    # Check model parameters\n",
    "    nan_params = []\n",
    "    for name, param in model.named_parameters():\n",
    "        if torch.isnan(param).any():\n",
    "            nan_params.append(name)\n",
    "    \n",
    "    if nan_params:\n",
    "        print(f\"WARNING: NaN found in model parameters: {nan_params}\")\n",
    "    else:\n",
    "        print(\"✓ Model parameters are clean (no NaN)\")\n",
    "    \n",
    "    # Check a batch of data\n",
    "    print(\"Checking first batch of training data...\")\n",
    "    batch = next(iter(train_loader))\n",
    "    sequences, static_data, labels = batch\n",
    "    \n",
    "    print(f\"Batch size: {len(labels)}\")\n",
    "    print(f\"Static data shape: {static_data.shape}\")\n",
    "    print(f\"Static data range: [{static_data.min():.4f}, {static_data.max():.4f}]\")\n",
    "    \n",
    "    if torch.isnan(static_data).any():\n",
    "        print(\"NaN found in static_data!\")\n",
    "        nan_mask = torch.isnan(static_data)\n",
    "        print(f\"NaN count: {nan_mask.sum().item()}\")\n",
    "        return False\n",
    "    else:\n",
    "        print(\"Static data is clean\")\n",
    "    \n",
    "    if torch.isinf(static_data).any():\n",
    "        print(\"Inf found in static_data!\")\n",
    "        return False\n",
    "    else:\n",
    "        print(\"No infinite values in static data\")\n",
    "    \n",
    "    # Check sequence data\n",
    "    for seq_name, seq_data in sequences.items():\n",
    "        if torch.isnan(seq_data).any():\n",
    "            print(f\"NaN found in {seq_name}\")\n",
    "            return False\n",
    "        if (seq_data < 0).any():\n",
    "            print(f\"Negative values found in {seq_name} (should be token indices)\")\n",
    "            return False\n",
    "    \n",
    "    print(\"✓ Sequence data is clean\")\n",
    "    \n",
    "    # Test forward pass\n",
    "    print(\"Testing forward pass...\")\n",
    "    model.eval()\n",
    "    with torch.no_grad():\n",
    "        try:\n",
    "            if torch.cuda.is_available():\n",
    "                model = model.cuda()\n",
    "                sequences = {k: v.cuda() for k, v in sequences.items()}\n",
    "                static_data = static_data.cuda()\n",
    "            \n",
    "            logits = model(sequences, static_data)\n",
    "            \n",
    "            if torch.isnan(logits).any():\n",
    "                print(\"NaN in model output!\")\n",
    "                return False\n",
    "            else:\n",
    "                print(\"Model forward pass successful\")\n",
    "                print(f\"Logits range: [{logits.min():.4f}, {logits.max():.4f}]\")\n",
    "        \n",
    "        except Exception as e:\n",
    "            print(f\"Forward pass failed: {e}\")\n",
    "            return False\n",
    "    \n",
    "    return True\n"
   ]
  },
  {
   "cell_type": "code",
   "execution_count": null,
   "id": "802ce4c8",
   "metadata": {},
   "outputs": [],
   "source": [
    "class StableIncidentTransformer(nn.Module):\n",
    "    def __init__(self, vocab_sizes, num_static_features, num_classes, embed_dim=64, nhead=4, num_encoder_layers=2, dim_feedforward=256, dropout=0.1):\n",
    "        super().__init__()\n",
    "        self.vocab_sizes = vocab_sizes\n",
    "        \n",
    "        self.embeddings = nn.ModuleDict({\n",
    "            f'embed_{name}': nn.Embedding(size, embed_dim, padding_idx=0)\n",
    "            for name, size in vocab_sizes.items()\n",
    "        })\n",
    "        \n",
    "        for embed in self.embeddings.values():\n",
    "            nn.init.normal_(embed.weight, mean=0, std=0.1)\n",
    "            if embed.padding_idx is not None:\n",
    "                nn.init.constant_(embed.weight[embed.padding_idx], 0)\n",
    "        \n",
    "        total_seq_embed_dim = embed_dim * len(vocab_sizes)\n",
    "        \n",
    "        self.input_norm = nn.LayerNorm(total_seq_embed_dim)\n",
    "        \n",
    "        encoder_layer = nn.TransformerEncoderLayer(\n",
    "            d_model=total_seq_embed_dim, \n",
    "            nhead=nhead, \n",
    "            dim_feedforward=dim_feedforward, \n",
    "            dropout=dropout, \n",
    "            batch_first=True,\n",
    "            norm_first=True  \n",
    "        )\n",
    "        self.transformer_encoder = nn.TransformerEncoder(encoder_layer, num_layers=num_encoder_layers)\n",
    "        \n",
    "        self.static_mlp = nn.Sequential(\n",
    "            nn.Linear(num_static_features, embed_dim * 2),\n",
    "            nn.BatchNorm1d(embed_dim * 2),\n",
    "            nn.ReLU(),\n",
    "            nn.Dropout(dropout),\n",
    "            nn.Linear(embed_dim * 2, embed_dim),\n",
    "            nn.BatchNorm1d(embed_dim)\n",
    "        )\n",
    "        \n",
    "        # Initialize static MLP\n",
    "        for layer in self.static_mlp:\n",
    "            if isinstance(layer, nn.Linear):\n",
    "                nn.init.xavier_normal_(layer.weight)\n",
    "                nn.init.constant_(layer.bias, 0)\n",
    "        \n",
    "        self.classifier = nn.Sequential(\n",
    "            nn.Linear(total_seq_embed_dim + embed_dim, embed_dim),\n",
    "            nn.LayerNorm(embed_dim),  \n",
    "            nn.ReLU(),\n",
    "            nn.Dropout(dropout),\n",
    "            nn.Linear(embed_dim, num_classes)\n",
    "        )\n",
    "        \n",
    "        for layer in self.classifier:\n",
    "            if isinstance(layer, nn.Linear):\n",
    "                nn.init.xavier_normal_(layer.weight)\n",
    "                nn.init.constant_(layer.bias, 0)\n",
    "\n",
    "    def forward(self, sequences, static_data):\n",
    "        if torch.isnan(static_data).any():\n",
    "            raise ValueError(\"NaN detected in static_data input\")\n",
    "        \n",
    "        # 1. Process Sequences\n",
    "        all_embeds = []\n",
    "        for name in self.vocab_sizes.keys():\n",
    "            seq_key = f'{name}_seq'\n",
    "            if seq_key in sequences:\n",
    "                embed = self.embeddings[f'embed_{name}'](sequences[seq_key])\n",
    "                all_embeds.append(embed)\n",
    "        \n",
    "        concatenated_embeds = torch.cat(all_embeds, dim=2)\n",
    "        \n",
    "        concatenated_embeds = self.input_norm(concatenated_embeds)\n",
    "        \n",
    "        first_seq_key = list(sequences.keys())[0]\n",
    "        padding_mask = (sequences[first_seq_key] == 0)\n",
    "        \n",
    "        transformer_out = self.transformer_encoder(\n",
    "            concatenated_embeds, \n",
    "            src_key_padding_mask=padding_mask\n",
    "        )\n",
    "        \n",
    "        transformer_out = transformer_out * (~padding_mask).unsqueeze(-1).float()\n",
    "        valid_lengths = (~padding_mask).sum(dim=1, keepdim=True).float()\n",
    "        valid_lengths = torch.clamp(valid_lengths, min=1.0)  \n",
    "        pooled_out = transformer_out.sum(dim=1) / valid_lengths\n",
    "        \n",
    "        pooled_out = torch.clamp(pooled_out, min=-10, max=10)\n",
    "        \n",
    "        static_data_normalized = torch.clamp(static_data, min=-100, max=100)\n",
    "        static_out = self.static_mlp(static_data_normalized)\n",
    "        static_out = torch.clamp(static_out, min=-10, max=10)\n",
    "        \n",
    "        # 3. Combine and Classify\n",
    "        combined = torch.cat([pooled_out, static_out], dim=1)\n",
    "        logits = self.classifier(combined)\n",
    "        \n",
    "        # Final stability check\n",
    "        if torch.isnan(logits).any():\n",
    "            raise ValueError(\"NaN detected in model output\")\n",
    "        \n",
    "        return logits\n"
   ]
  },
  {
   "cell_type": "code",
   "execution_count": null,
   "id": "d9dba039",
   "metadata": {},
   "outputs": [],
   "source": [
    "class StableIncidentClassifier(pl.LightningModule):\n",
    "    def __init__(self, model, class_names, learning_rate=1e-5):\n",
    "        super().__init__()\n",
    "        self.model = model\n",
    "        self.class_names = class_names\n",
    "        self.num_classes = len(class_names)\n",
    "        self.learning_rate = learning_rate\n",
    "        \n",
    "        # More stable loss function\n",
    "        self.criterion = nn.CrossEntropyLoss(label_smoothing=0.05)\n",
    "        \n",
    "        # Metrics\n",
    "        self.train_f1 = torchmetrics.F1Score(task='multiclass', num_classes=self.num_classes, average='macro')\n",
    "        self.val_f1 = torchmetrics.F1Score(task='multiclass', num_classes=self.num_classes, average='macro')\n",
    "        \n",
    "        self.save_hyperparameters(ignore=['model'])\n",
    "    \n",
    "    def forward(self, sequences, static_data):\n",
    "        return self.model(sequences, static_data)\n",
    "    \n",
    "    def training_step(self, batch, batch_idx):\n",
    "        sequences, static_data, labels = batch\n",
    "        \n",
    "        try:\n",
    "            logits = self(sequences, static_data)\n",
    "            loss = self.criterion(logits, labels)\n",
    "            \n",
    "            # Stability checks\n",
    "            if torch.isnan(loss):\n",
    "                print(f\"NaN loss at batch {batch_idx}\")\n",
    "                return None\n",
    "            \n",
    "            if loss > 100:  \n",
    "                print(f\"Very high loss ({loss:.4f}) at batch {batch_idx}\")\n",
    "                return None\n",
    "            \n",
    "            # Calculate accuracy for monitoring\n",
    "            preds = torch.argmax(logits, dim=1)\n",
    "            self.train_f1.update(preds, labels)\n",
    "            \n",
    "            # Log with error handling\n",
    "            if batch_idx % 100 == 0:\n",
    "                self.log('train_loss_step', loss, on_step=True, on_epoch=False, prog_bar=False)\n",
    "            \n",
    "            self.log('train_loss', loss, on_step=False, on_epoch=True, prog_bar=True)\n",
    "            return loss\n",
    "            \n",
    "        except Exception as e:\n",
    "            print(f\"Training step error at batch {batch_idx}: {e}\")\n",
    "            return None\n",
    "    \n",
    "    def validation_step(self, batch, batch_idx):\n",
    "        sequences, static_data, labels = batch\n",
    "        \n",
    "        try:\n",
    "            logits = self(sequences, static_data)\n",
    "            loss = self.criterion(logits, labels)\n",
    "            \n",
    "            if torch.isnan(loss):\n",
    "                print(f\"NaN validation loss at batch {batch_idx}\")\n",
    "                return {'val_loss': torch.tensor(10.0)}  \n",
    "            \n",
    "            preds = torch.argmax(logits, dim=1)\n",
    "            self.val_f1.update(preds, labels)\n",
    "            \n",
    "            return {'val_loss': loss}\n",
    "            \n",
    "        except Exception as e:\n",
    "            print(f\"Validation step error at batch {batch_idx}: {e}\")\n",
    "            return {'val_loss': torch.tensor(10.0)}\n",
    "    \n",
    "    def on_train_epoch_end(self):\n",
    "        train_f1 = self.train_f1.compute()\n",
    "        self.log('train_f1_macro', train_f1, prog_bar=True)\n",
    "        self.train_f1.reset()\n",
    "    \n",
    "    def on_validation_epoch_end(self):\n",
    "        val_f1 = self.val_f1.compute()\n",
    "        self.log('val_f1_macro', val_f1, prog_bar=True)\n",
    "        self.val_f1.reset()\n",
    "    \n",
    "    def configure_optimizers(self):\n",
    "        optimizer = torch.optim.AdamW(\n",
    "            self.parameters(), \n",
    "            lr=self.learning_rate, \n",
    "            weight_decay=0.01,\n",
    "            eps=1e-8,\n",
    "            betas=(0.9, 0.95)  \n",
    "        )\n",
    "        \n",
    "        scheduler = torch.optim.lr_scheduler.CosineAnnealingLR(\n",
    "            optimizer,\n",
    "            T_max=15,  \n",
    "            eta_min=self.learning_rate * 0.1\n",
    "        )\n",
    "        \n",
    "        return {\n",
    "            'optimizer': optimizer,\n",
    "            'lr_scheduler': {\n",
    "                'scheduler': scheduler,\n",
    "                'frequency': 1,\n",
    "                'interval': 'epoch'  \n",
    "            }\n",
    "        }\n"
   ]
  },
  {
   "cell_type": "code",
   "execution_count": null,
   "id": "69166a65",
   "metadata": {},
   "outputs": [],
   "source": [
    "def preprocess_static_features(static_tensor):\n",
    "    \"\"\"Clean and normalize static features\"\"\"\n",
    "    static_tensor = torch.nan_to_num(static_tensor, nan=0.0, posinf=1e6, neginf=-1e6)\n",
    "    \n",
    "    # Clip extreme values\n",
    "    static_tensor = torch.clamp(static_tensor, min=-1e6, max=1e6)\n",
    "    \n",
    "    mean_vals = static_tensor.mean(dim=0, keepdim=True)\n",
    "    std_vals = static_tensor.std(dim=0, keepdim=True)\n",
    "    std_vals = torch.clamp(std_vals, min=1e-8)  \n",
    "    \n",
    "    static_tensor = (static_tensor - mean_vals) / std_vals\n",
    "    \n",
    "    # Final clipping after normalization\n",
    "    static_tensor = torch.clamp(static_tensor, min=-5, max=5)\n",
    "    \n",
    "    return static_tensor"
   ]
  },
  {
   "cell_type": "code",
   "execution_count": null,
   "id": "b71299e0",
   "metadata": {},
   "outputs": [
    {
     "name": "stdout",
     "output_type": "stream",
     "text": [
      "\n",
      "==================================================\n",
      "FOLD 1/5\n",
      "==================================================\n",
      "Train samples: 460741, Val samples: 106868\n"
     ]
    },
    {
     "name": "stderr",
     "output_type": "stream",
     "text": [
      "c:\\Project\\Micosoft Security Indicent\\.venv\\Lib\\site-packages\\torch\\nn\\modules\\transformer.py:392: UserWarning: enable_nested_tensor is True, but self.use_nested_tensor is False because encoder_layer.norm_first was True\n",
      "  warnings.warn(\n",
      "Using 16bit Automatic Mixed Precision (AMP)\n",
      "GPU available: True (cuda), used: True\n",
      "TPU available: False, using: 0 TPU cores\n",
      "HPU available: False, using: 0 HPUs\n"
     ]
    },
    {
     "name": "stdout",
     "output_type": "stream",
     "text": [
      "DEBUGGING MODEL AND DATA\n",
      "=== DEBUGGING NAN ISSUES ===\n",
      "✓ Model parameters are clean (no NaN)\n",
      "Checking first batch of training data...\n",
      "Batch size: 64\n",
      "Static data shape: torch.Size([64, 6])\n",
      "Static data range: [0.0000, 2026635.0000]\n",
      "Static data is clean\n",
      "No infinite values in static data\n",
      "✓ Sequence data is clean\n",
      "Testing forward pass...\n",
      "Model forward pass successful\n",
      "Logits range: [-0.6152, 2.6800]\n",
      "Starting training for fold 1...\n"
     ]
    },
    {
     "name": "stderr",
     "output_type": "stream",
     "text": [
      "c:\\Project\\Micosoft Security Indicent\\.venv\\Lib\\site-packages\\pytorch_lightning\\callbacks\\model_checkpoint.py:751: Checkpoint directory C:\\Project\\Micosoft Security Indicent\\notebooks\\checkpoints\\fold_1 exists and is not empty.\n",
      "LOCAL_RANK: 0 - CUDA_VISIBLE_DEVICES: [0]\n"
     ]
    },
    {
     "data": {
      "application/vnd.jupyter.widget-view+json": {
       "model_id": "2b1d0637ba774797bd294bdc4ac1a4e2",
       "version_major": 2,
       "version_minor": 0
      },
      "text/plain": [
       "Sanity Checking: |          | 0/? [00:00<?, ?it/s]"
      ]
     },
     "metadata": {},
     "output_type": "display_data"
    },
    {
     "name": "stderr",
     "output_type": "stream",
     "text": [
      "c:\\Project\\Micosoft Security Indicent\\.venv\\Lib\\site-packages\\pytorch_lightning\\trainer\\connectors\\data_connector.py:433: The 'val_dataloader' does not have many workers which may be a bottleneck. Consider increasing the value of the `num_workers` argument` to `num_workers=15` in the `DataLoader` to improve performance.\n",
      "c:\\Project\\Micosoft Security Indicent\\.venv\\Lib\\site-packages\\pytorch_lightning\\trainer\\connectors\\data_connector.py:433: The 'train_dataloader' does not have many workers which may be a bottleneck. Consider increasing the value of the `num_workers` argument` to `num_workers=15` in the `DataLoader` to improve performance.\n",
      "c:\\Project\\Micosoft Security Indicent\\.venv\\Lib\\site-packages\\pytorch_lightning\\loops\\fit_loop.py:527: Found 42 module(s) in eval mode at the start of training. This may lead to unexpected behavior during training. If this is intentional, you can ignore this warning.\n"
     ]
    },
    {
     "data": {
      "application/vnd.jupyter.widget-view+json": {
       "model_id": "7b56bcb55c15418a8c9539b85f316bf3",
       "version_major": 2,
       "version_minor": 0
      },
      "text/plain": [
       "Training: |          | 0/? [00:00<?, ?it/s]"
      ]
     },
     "metadata": {},
     "output_type": "display_data"
    },
    {
     "data": {
      "application/vnd.jupyter.widget-view+json": {
       "model_id": "7aea9b5aba9e4c6798b22c3663921070",
       "version_major": 2,
       "version_minor": 0
      },
      "text/plain": [
       "Validation: |          | 0/? [00:00<?, ?it/s]"
      ]
     },
     "metadata": {},
     "output_type": "display_data"
    },
    {
     "name": "stderr",
     "output_type": "stream",
     "text": [
      "Metric val_f1_macro improved. New best score: 0.354\n",
      "Epoch 0, global step 7199: 'val_f1_macro' reached 0.35417 (best 0.35417), saving model to 'C:\\\\Project\\\\Micosoft Security Indicent\\\\notebooks\\\\checkpoints\\\\fold_1\\\\best-checkpoint-epoch=00-val_f1_macro=0.354.ckpt' as top 1\n"
     ]
    },
    {
     "data": {
      "application/vnd.jupyter.widget-view+json": {
       "model_id": "129fdc8184724d31817ecb4b4424eabd",
       "version_major": 2,
       "version_minor": 0
      },
      "text/plain": [
       "Validation: |          | 0/? [00:00<?, ?it/s]"
      ]
     },
     "metadata": {},
     "output_type": "display_data"
    },
    {
     "name": "stderr",
     "output_type": "stream",
     "text": [
      "Metric val_f1_macro improved by 0.012 >= min_delta = 0.001. New best score: 0.366\n",
      "Epoch 1, global step 14398: 'val_f1_macro' reached 0.36641 (best 0.36641), saving model to 'C:\\\\Project\\\\Micosoft Security Indicent\\\\notebooks\\\\checkpoints\\\\fold_1\\\\best-checkpoint-epoch=01-val_f1_macro=0.366.ckpt' as top 1\n"
     ]
    },
    {
     "data": {
      "application/vnd.jupyter.widget-view+json": {
       "model_id": "9db6eed4dbf74a1c92ac8c5b904d572f",
       "version_major": 2,
       "version_minor": 0
      },
      "text/plain": [
       "Validation: |          | 0/? [00:00<?, ?it/s]"
      ]
     },
     "metadata": {},
     "output_type": "display_data"
    },
    {
     "name": "stderr",
     "output_type": "stream",
     "text": [
      "Metric val_f1_macro improved by 0.016 >= min_delta = 0.001. New best score: 0.382\n",
      "Epoch 2, global step 21597: 'val_f1_macro' reached 0.38213 (best 0.38213), saving model to 'C:\\\\Project\\\\Micosoft Security Indicent\\\\notebooks\\\\checkpoints\\\\fold_1\\\\best-checkpoint-epoch=02-val_f1_macro=0.382.ckpt' as top 1\n"
     ]
    },
    {
     "data": {
      "application/vnd.jupyter.widget-view+json": {
       "model_id": "918a29b8d7a94a4ab26ad24c39eecca2",
       "version_major": 2,
       "version_minor": 0
      },
      "text/plain": [
       "Validation: |          | 0/? [00:00<?, ?it/s]"
      ]
     },
     "metadata": {},
     "output_type": "display_data"
    },
    {
     "name": "stderr",
     "output_type": "stream",
     "text": [
      "Metric val_f1_macro improved by 0.002 >= min_delta = 0.001. New best score: 0.384\n",
      "Epoch 3, global step 28796: 'val_f1_macro' reached 0.38402 (best 0.38402), saving model to 'C:\\\\Project\\\\Micosoft Security Indicent\\\\notebooks\\\\checkpoints\\\\fold_1\\\\best-checkpoint-epoch=03-val_f1_macro=0.384.ckpt' as top 1\n"
     ]
    },
    {
     "data": {
      "application/vnd.jupyter.widget-view+json": {
       "model_id": "5a3c59e8a5444beaa9aad955da4380fa",
       "version_major": 2,
       "version_minor": 0
      },
      "text/plain": [
       "Validation: |          | 0/? [00:00<?, ?it/s]"
      ]
     },
     "metadata": {},
     "output_type": "display_data"
    },
    {
     "name": "stderr",
     "output_type": "stream",
     "text": [
      "Metric val_f1_macro improved by 0.005 >= min_delta = 0.001. New best score: 0.389\n",
      "Epoch 4, global step 35995: 'val_f1_macro' reached 0.38929 (best 0.38929), saving model to 'C:\\\\Project\\\\Micosoft Security Indicent\\\\notebooks\\\\checkpoints\\\\fold_1\\\\best-checkpoint-epoch=04-val_f1_macro=0.389.ckpt' as top 1\n"
     ]
    },
    {
     "data": {
      "application/vnd.jupyter.widget-view+json": {
       "model_id": "f3ed1e2d44f045408c953ded7ddd049f",
       "version_major": 2,
       "version_minor": 0
      },
      "text/plain": [
       "Validation: |          | 0/? [00:00<?, ?it/s]"
      ]
     },
     "metadata": {},
     "output_type": "display_data"
    },
    {
     "name": "stderr",
     "output_type": "stream",
     "text": [
      "Epoch 5, global step 43194: 'val_f1_macro' was not in top 1\n"
     ]
    },
    {
     "data": {
      "application/vnd.jupyter.widget-view+json": {
       "model_id": "238dea2b27ed442a9ceb354ee22ac2ad",
       "version_major": 2,
       "version_minor": 0
      },
      "text/plain": [
       "Validation: |          | 0/? [00:00<?, ?it/s]"
      ]
     },
     "metadata": {},
     "output_type": "display_data"
    },
    {
     "name": "stderr",
     "output_type": "stream",
     "text": [
      "Epoch 6, global step 50393: 'val_f1_macro' was not in top 1\n"
     ]
    },
    {
     "data": {
      "application/vnd.jupyter.widget-view+json": {
       "model_id": "2cfd4899ff8143cf8962315495004dec",
       "version_major": 2,
       "version_minor": 0
      },
      "text/plain": [
       "Validation: |          | 0/? [00:00<?, ?it/s]"
      ]
     },
     "metadata": {},
     "output_type": "display_data"
    },
    {
     "name": "stderr",
     "output_type": "stream",
     "text": [
      "Metric val_f1_macro improved by 0.010 >= min_delta = 0.001. New best score: 0.399\n",
      "Epoch 7, global step 57592: 'val_f1_macro' reached 0.39896 (best 0.39896), saving model to 'C:\\\\Project\\\\Micosoft Security Indicent\\\\notebooks\\\\checkpoints\\\\fold_1\\\\best-checkpoint-epoch=07-val_f1_macro=0.399.ckpt' as top 1\n"
     ]
    },
    {
     "data": {
      "application/vnd.jupyter.widget-view+json": {
       "model_id": "d0228a432d8d4c0ca5086c7deeb024a3",
       "version_major": 2,
       "version_minor": 0
      },
      "text/plain": [
       "Validation: |          | 0/? [00:00<?, ?it/s]"
      ]
     },
     "metadata": {},
     "output_type": "display_data"
    },
    {
     "name": "stderr",
     "output_type": "stream",
     "text": [
      "Metric val_f1_macro improved by 0.002 >= min_delta = 0.001. New best score: 0.401\n",
      "Epoch 8, global step 64791: 'val_f1_macro' reached 0.40084 (best 0.40084), saving model to 'C:\\\\Project\\\\Micosoft Security Indicent\\\\notebooks\\\\checkpoints\\\\fold_1\\\\best-checkpoint-epoch=08-val_f1_macro=0.401.ckpt' as top 1\n"
     ]
    },
    {
     "data": {
      "application/vnd.jupyter.widget-view+json": {
       "model_id": "4ee9f496844246da82b80d5d1dd944b8",
       "version_major": 2,
       "version_minor": 0
      },
      "text/plain": [
       "Validation: |          | 0/? [00:00<?, ?it/s]"
      ]
     },
     "metadata": {},
     "output_type": "display_data"
    },
    {
     "name": "stderr",
     "output_type": "stream",
     "text": [
      "Epoch 9, global step 71990: 'val_f1_macro' was not in top 1\n"
     ]
    },
    {
     "data": {
      "application/vnd.jupyter.widget-view+json": {
       "model_id": "d1df21ac23a7400fb746809e6daf3e80",
       "version_major": 2,
       "version_minor": 0
      },
      "text/plain": [
       "Validation: |          | 0/? [00:00<?, ?it/s]"
      ]
     },
     "metadata": {},
     "output_type": "display_data"
    },
    {
     "name": "stderr",
     "output_type": "stream",
     "text": [
      "Epoch 10, global step 79189: 'val_f1_macro' was not in top 1\n"
     ]
    },
    {
     "data": {
      "application/vnd.jupyter.widget-view+json": {
       "model_id": "942d43b035474c5da4aa66b86096abaa",
       "version_major": 2,
       "version_minor": 0
      },
      "text/plain": [
       "Validation: |          | 0/? [00:00<?, ?it/s]"
      ]
     },
     "metadata": {},
     "output_type": "display_data"
    },
    {
     "name": "stderr",
     "output_type": "stream",
     "text": [
      "Epoch 11, global step 86388: 'val_f1_macro' was not in top 1\n"
     ]
    },
    {
     "data": {
      "application/vnd.jupyter.widget-view+json": {
       "model_id": "1b0fce4544f54ce29ef358aa9ebeb2f0",
       "version_major": 2,
       "version_minor": 0
      },
      "text/plain": [
       "Validation: |          | 0/? [00:00<?, ?it/s]"
      ]
     },
     "metadata": {},
     "output_type": "display_data"
    },
    {
     "name": "stderr",
     "output_type": "stream",
     "text": [
      "Epoch 12, global step 93587: 'val_f1_macro' was not in top 1\n"
     ]
    },
    {
     "data": {
      "application/vnd.jupyter.widget-view+json": {
       "model_id": "086c840d0d1c4ff6aa19a55d2082ea99",
       "version_major": 2,
       "version_minor": 0
      },
      "text/plain": [
       "Validation: |          | 0/? [00:00<?, ?it/s]"
      ]
     },
     "metadata": {},
     "output_type": "display_data"
    },
    {
     "name": "stderr",
     "output_type": "stream",
     "text": [
      "Metric val_f1_macro improved by 0.003 >= min_delta = 0.001. New best score: 0.404\n",
      "Epoch 13, global step 100786: 'val_f1_macro' reached 0.40372 (best 0.40372), saving model to 'C:\\\\Project\\\\Micosoft Security Indicent\\\\notebooks\\\\checkpoints\\\\fold_1\\\\best-checkpoint-epoch=13-val_f1_macro=0.404.ckpt' as top 1\n"
     ]
    },
    {
     "data": {
      "application/vnd.jupyter.widget-view+json": {
       "model_id": "30797f6bed85441a9988b6f278391346",
       "version_major": 2,
       "version_minor": 0
      },
      "text/plain": [
       "Validation: |          | 0/? [00:00<?, ?it/s]"
      ]
     },
     "metadata": {},
     "output_type": "display_data"
    },
    {
     "name": "stderr",
     "output_type": "stream",
     "text": [
      "Epoch 14, global step 107985: 'val_f1_macro' was not in top 1\n",
      "`Trainer.fit` stopped: `max_epochs=15` reached.\n"
     ]
    },
    {
     "name": "stdout",
     "output_type": "stream",
     "text": [
      "Loading best model for inference...\n",
      "Running manual validation predictions...\n",
      "Processed 0/1670 validation batches\n",
      "Processed 100/1670 validation batches\n",
      "Processed 200/1670 validation batches\n",
      "Processed 300/1670 validation batches\n",
      "Processed 400/1670 validation batches\n",
      "Processed 500/1670 validation batches\n",
      "Processed 600/1670 validation batches\n",
      "Processed 700/1670 validation batches\n",
      "Processed 800/1670 validation batches\n",
      "Processed 900/1670 validation batches\n",
      "Processed 1000/1670 validation batches\n",
      "Processed 1100/1670 validation batches\n",
      "Processed 1200/1670 validation batches\n",
      "Processed 1300/1670 validation batches\n",
      "Processed 1400/1670 validation batches\n",
      "Processed 1500/1670 validation batches\n",
      "Processed 1600/1670 validation batches\n",
      "Fold 1 Best Macro F1: 0.40380\n"
     ]
    },
    {
     "name": "stderr",
     "output_type": "stream",
     "text": [
      "c:\\Project\\Micosoft Security Indicent\\.venv\\Lib\\site-packages\\torch\\nn\\modules\\transformer.py:392: UserWarning: enable_nested_tensor is True, but self.use_nested_tensor is False because encoder_layer.norm_first was True\n",
      "  warnings.warn(\n",
      "Using 16bit Automatic Mixed Precision (AMP)\n",
      "GPU available: True (cuda), used: True\n",
      "TPU available: False, using: 0 TPU cores\n",
      "HPU available: False, using: 0 HPUs\n",
      "c:\\Project\\Micosoft Security Indicent\\.venv\\Lib\\site-packages\\pytorch_lightning\\callbacks\\model_checkpoint.py:751: Checkpoint directory C:\\Project\\Micosoft Security Indicent\\notebooks\\checkpoints\\fold_2 exists and is not empty.\n",
      "LOCAL_RANK: 0 - CUDA_VISIBLE_DEVICES: [0]\n"
     ]
    },
    {
     "name": "stdout",
     "output_type": "stream",
     "text": [
      "Fold 1 completed successfully!\n",
      "\n",
      "==================================================\n",
      "FOLD 2/5\n",
      "==================================================\n",
      "Train samples: 502181, Val samples: 65428\n",
      "DEBUGGING MODEL AND DATA\n",
      "=== DEBUGGING NAN ISSUES ===\n",
      "✓ Model parameters are clean (no NaN)\n",
      "Checking first batch of training data...\n",
      "Batch size: 64\n",
      "Static data shape: torch.Size([64, 6])\n",
      "Static data range: [0.0000, 1009319.0000]\n",
      "Static data is clean\n",
      "No infinite values in static data\n",
      "✓ Sequence data is clean\n",
      "Testing forward pass...\n",
      "Model forward pass successful\n",
      "Logits range: [-2.2148, 1.8320]\n",
      "Starting training for fold 2...\n"
     ]
    },
    {
     "data": {
      "application/vnd.jupyter.widget-view+json": {
       "model_id": "e125405cf04f440a94e42ff2246fe343",
       "version_major": 2,
       "version_minor": 0
      },
      "text/plain": [
       "Sanity Checking: |          | 0/? [00:00<?, ?it/s]"
      ]
     },
     "metadata": {},
     "output_type": "display_data"
    },
    {
     "name": "stderr",
     "output_type": "stream",
     "text": [
      "c:\\Project\\Micosoft Security Indicent\\.venv\\Lib\\site-packages\\pytorch_lightning\\trainer\\connectors\\data_connector.py:433: The 'val_dataloader' does not have many workers which may be a bottleneck. Consider increasing the value of the `num_workers` argument` to `num_workers=15` in the `DataLoader` to improve performance.\n",
      "c:\\Project\\Micosoft Security Indicent\\.venv\\Lib\\site-packages\\pytorch_lightning\\trainer\\connectors\\data_connector.py:433: The 'train_dataloader' does not have many workers which may be a bottleneck. Consider increasing the value of the `num_workers` argument` to `num_workers=15` in the `DataLoader` to improve performance.\n",
      "c:\\Project\\Micosoft Security Indicent\\.venv\\Lib\\site-packages\\pytorch_lightning\\loops\\fit_loop.py:527: Found 42 module(s) in eval mode at the start of training. This may lead to unexpected behavior during training. If this is intentional, you can ignore this warning.\n"
     ]
    },
    {
     "data": {
      "application/vnd.jupyter.widget-view+json": {
       "model_id": "33dea74b91a84ee4820327635e12954d",
       "version_major": 2,
       "version_minor": 0
      },
      "text/plain": [
       "Training: |          | 0/? [00:00<?, ?it/s]"
      ]
     },
     "metadata": {},
     "output_type": "display_data"
    },
    {
     "data": {
      "application/vnd.jupyter.widget-view+json": {
       "model_id": "07038292afa040188f79ac22f2732605",
       "version_major": 2,
       "version_minor": 0
      },
      "text/plain": [
       "Validation: |          | 0/? [00:00<?, ?it/s]"
      ]
     },
     "metadata": {},
     "output_type": "display_data"
    },
    {
     "name": "stderr",
     "output_type": "stream",
     "text": [
      "Metric val_f1_macro improved. New best score: 0.391\n",
      "Epoch 0, global step 7846: 'val_f1_macro' reached 0.39115 (best 0.39115), saving model to 'C:\\\\Project\\\\Micosoft Security Indicent\\\\notebooks\\\\checkpoints\\\\fold_2\\\\best-checkpoint-epoch=00-val_f1_macro=0.391.ckpt' as top 1\n"
     ]
    },
    {
     "data": {
      "application/vnd.jupyter.widget-view+json": {
       "model_id": "f7dbaac6e2f74f249725f539e6770310",
       "version_major": 2,
       "version_minor": 0
      },
      "text/plain": [
       "Validation: |          | 0/? [00:00<?, ?it/s]"
      ]
     },
     "metadata": {},
     "output_type": "display_data"
    },
    {
     "name": "stderr",
     "output_type": "stream",
     "text": [
      "Metric val_f1_macro improved by 0.008 >= min_delta = 0.001. New best score: 0.399\n",
      "Epoch 1, global step 15692: 'val_f1_macro' reached 0.39867 (best 0.39867), saving model to 'C:\\\\Project\\\\Micosoft Security Indicent\\\\notebooks\\\\checkpoints\\\\fold_2\\\\best-checkpoint-epoch=01-val_f1_macro=0.399.ckpt' as top 1\n"
     ]
    },
    {
     "data": {
      "application/vnd.jupyter.widget-view+json": {
       "model_id": "b0f3f197039d4572a3ed7c484fd8f284",
       "version_major": 2,
       "version_minor": 0
      },
      "text/plain": [
       "Validation: |          | 0/? [00:00<?, ?it/s]"
      ]
     },
     "metadata": {},
     "output_type": "display_data"
    },
    {
     "name": "stderr",
     "output_type": "stream",
     "text": [
      "Epoch 2, global step 23538: 'val_f1_macro' was not in top 1\n"
     ]
    },
    {
     "data": {
      "application/vnd.jupyter.widget-view+json": {
       "model_id": "93c5b5e6fa194755b9aaa8089ba5a97f",
       "version_major": 2,
       "version_minor": 0
      },
      "text/plain": [
       "Validation: |          | 0/? [00:00<?, ?it/s]"
      ]
     },
     "metadata": {},
     "output_type": "display_data"
    },
    {
     "name": "stderr",
     "output_type": "stream",
     "text": [
      "Metric val_f1_macro improved by 0.003 >= min_delta = 0.001. New best score: 0.402\n",
      "Epoch 3, global step 31384: 'val_f1_macro' reached 0.40163 (best 0.40163), saving model to 'C:\\\\Project\\\\Micosoft Security Indicent\\\\notebooks\\\\checkpoints\\\\fold_2\\\\best-checkpoint-epoch=03-val_f1_macro=0.402.ckpt' as top 1\n"
     ]
    },
    {
     "data": {
      "application/vnd.jupyter.widget-view+json": {
       "model_id": "97257c7f00cf45e7b3d316b041ec165a",
       "version_major": 2,
       "version_minor": 0
      },
      "text/plain": [
       "Validation: |          | 0/? [00:00<?, ?it/s]"
      ]
     },
     "metadata": {},
     "output_type": "display_data"
    },
    {
     "name": "stderr",
     "output_type": "stream",
     "text": [
      "Metric val_f1_macro improved by 0.073 >= min_delta = 0.001. New best score: 0.474\n",
      "Epoch 4, global step 39230: 'val_f1_macro' reached 0.47438 (best 0.47438), saving model to 'C:\\\\Project\\\\Micosoft Security Indicent\\\\notebooks\\\\checkpoints\\\\fold_2\\\\best-checkpoint-epoch=04-val_f1_macro=0.474.ckpt' as top 1\n"
     ]
    },
    {
     "data": {
      "application/vnd.jupyter.widget-view+json": {
       "model_id": "02bdf2ce2a81479eabfc97be364a9a8d",
       "version_major": 2,
       "version_minor": 0
      },
      "text/plain": [
       "Validation: |          | 0/? [00:00<?, ?it/s]"
      ]
     },
     "metadata": {},
     "output_type": "display_data"
    },
    {
     "name": "stderr",
     "output_type": "stream",
     "text": [
      "Metric val_f1_macro improved by 0.011 >= min_delta = 0.001. New best score: 0.485\n",
      "Epoch 5, global step 47076: 'val_f1_macro' reached 0.48548 (best 0.48548), saving model to 'C:\\\\Project\\\\Micosoft Security Indicent\\\\notebooks\\\\checkpoints\\\\fold_2\\\\best-checkpoint-epoch=05-val_f1_macro=0.485.ckpt' as top 1\n"
     ]
    },
    {
     "data": {
      "application/vnd.jupyter.widget-view+json": {
       "model_id": "41b8459c8aa34407896490117448a811",
       "version_major": 2,
       "version_minor": 0
      },
      "text/plain": [
       "Validation: |          | 0/? [00:00<?, ?it/s]"
      ]
     },
     "metadata": {},
     "output_type": "display_data"
    },
    {
     "name": "stderr",
     "output_type": "stream",
     "text": [
      "Epoch 6, global step 54922: 'val_f1_macro' was not in top 1\n"
     ]
    },
    {
     "data": {
      "application/vnd.jupyter.widget-view+json": {
       "model_id": "45e9ef95ea0842f7b48bc18f7bd45f3c",
       "version_major": 2,
       "version_minor": 0
      },
      "text/plain": [
       "Validation: |          | 0/? [00:00<?, ?it/s]"
      ]
     },
     "metadata": {},
     "output_type": "display_data"
    },
    {
     "name": "stderr",
     "output_type": "stream",
     "text": [
      "Epoch 7, global step 62768: 'val_f1_macro' was not in top 1\n"
     ]
    },
    {
     "data": {
      "application/vnd.jupyter.widget-view+json": {
       "model_id": "cf34332b7f17471696f41143e21efd84",
       "version_major": 2,
       "version_minor": 0
      },
      "text/plain": [
       "Validation: |          | 0/? [00:00<?, ?it/s]"
      ]
     },
     "metadata": {},
     "output_type": "display_data"
    },
    {
     "name": "stderr",
     "output_type": "stream",
     "text": [
      "Epoch 8, global step 70614: 'val_f1_macro' was not in top 1\n"
     ]
    },
    {
     "data": {
      "application/vnd.jupyter.widget-view+json": {
       "model_id": "f51a5dbe0200471fb27ce08bc86a390a",
       "version_major": 2,
       "version_minor": 0
      },
      "text/plain": [
       "Validation: |          | 0/? [00:00<?, ?it/s]"
      ]
     },
     "metadata": {},
     "output_type": "display_data"
    },
    {
     "name": "stderr",
     "output_type": "stream",
     "text": [
      "Epoch 9, global step 78460: 'val_f1_macro' was not in top 1\n"
     ]
    },
    {
     "data": {
      "application/vnd.jupyter.widget-view+json": {
       "model_id": "490109c7a18b47f6863acea6912afc5f",
       "version_major": 2,
       "version_minor": 0
      },
      "text/plain": [
       "Validation: |          | 0/? [00:00<?, ?it/s]"
      ]
     },
     "metadata": {},
     "output_type": "display_data"
    },
    {
     "name": "stderr",
     "output_type": "stream",
     "text": [
      "Monitored metric val_f1_macro did not improve in the last 5 records. Best score: 0.485. Signaling Trainer to stop.\n",
      "Epoch 10, global step 86306: 'val_f1_macro' was not in top 1\n"
     ]
    },
    {
     "name": "stdout",
     "output_type": "stream",
     "text": [
      "Loading best model for inference...\n",
      "Running manual validation predictions...\n",
      "Processed 0/1023 validation batches\n",
      "Processed 100/1023 validation batches\n",
      "Processed 200/1023 validation batches\n",
      "Processed 300/1023 validation batches\n",
      "Processed 400/1023 validation batches\n",
      "Processed 500/1023 validation batches\n",
      "Processed 600/1023 validation batches\n",
      "Processed 700/1023 validation batches\n",
      "Processed 800/1023 validation batches\n",
      "Processed 900/1023 validation batches\n",
      "Processed 1000/1023 validation batches\n",
      "Fold 2 Best Macro F1: 0.48541\n"
     ]
    },
    {
     "name": "stderr",
     "output_type": "stream",
     "text": [
      "c:\\Project\\Micosoft Security Indicent\\.venv\\Lib\\site-packages\\torch\\nn\\modules\\transformer.py:392: UserWarning: enable_nested_tensor is True, but self.use_nested_tensor is False because encoder_layer.norm_first was True\n",
      "  warnings.warn(\n",
      "Using 16bit Automatic Mixed Precision (AMP)\n",
      "GPU available: True (cuda), used: True\n",
      "TPU available: False, using: 0 TPU cores\n",
      "HPU available: False, using: 0 HPUs\n",
      "c:\\Project\\Micosoft Security Indicent\\.venv\\Lib\\site-packages\\pytorch_lightning\\callbacks\\model_checkpoint.py:751: Checkpoint directory C:\\Project\\Micosoft Security Indicent\\notebooks\\checkpoints\\fold_3 exists and is not empty.\n",
      "LOCAL_RANK: 0 - CUDA_VISIBLE_DEVICES: [0]\n"
     ]
    },
    {
     "name": "stdout",
     "output_type": "stream",
     "text": [
      "Fold 2 completed successfully!\n",
      "\n",
      "==================================================\n",
      "FOLD 3/5\n",
      "==================================================\n",
      "Train samples: 428227, Val samples: 139382\n",
      "DEBUGGING MODEL AND DATA\n",
      "=== DEBUGGING NAN ISSUES ===\n",
      "✓ Model parameters are clean (no NaN)\n",
      "Checking first batch of training data...\n",
      "Batch size: 64\n",
      "Static data shape: torch.Size([64, 6])\n",
      "Static data range: [0.0000, 1028103.0000]\n",
      "Static data is clean\n",
      "No infinite values in static data\n",
      "✓ Sequence data is clean\n",
      "Testing forward pass...\n",
      "Model forward pass successful\n",
      "Logits range: [-2.3340, 0.8071]\n",
      "Starting training for fold 3...\n"
     ]
    },
    {
     "data": {
      "application/vnd.jupyter.widget-view+json": {
       "model_id": "1747ce933e694c76b47847c6bd4eaea2",
       "version_major": 2,
       "version_minor": 0
      },
      "text/plain": [
       "Sanity Checking: |          | 0/? [00:00<?, ?it/s]"
      ]
     },
     "metadata": {},
     "output_type": "display_data"
    },
    {
     "name": "stderr",
     "output_type": "stream",
     "text": [
      "c:\\Project\\Micosoft Security Indicent\\.venv\\Lib\\site-packages\\pytorch_lightning\\trainer\\connectors\\data_connector.py:433: The 'val_dataloader' does not have many workers which may be a bottleneck. Consider increasing the value of the `num_workers` argument` to `num_workers=15` in the `DataLoader` to improve performance.\n",
      "c:\\Project\\Micosoft Security Indicent\\.venv\\Lib\\site-packages\\pytorch_lightning\\trainer\\connectors\\data_connector.py:433: The 'train_dataloader' does not have many workers which may be a bottleneck. Consider increasing the value of the `num_workers` argument` to `num_workers=15` in the `DataLoader` to improve performance.\n",
      "c:\\Project\\Micosoft Security Indicent\\.venv\\Lib\\site-packages\\pytorch_lightning\\loops\\fit_loop.py:527: Found 42 module(s) in eval mode at the start of training. This may lead to unexpected behavior during training. If this is intentional, you can ignore this warning.\n"
     ]
    },
    {
     "data": {
      "application/vnd.jupyter.widget-view+json": {
       "model_id": "1a7b93c66efb44c6bf66d0c2cd87d615",
       "version_major": 2,
       "version_minor": 0
      },
      "text/plain": [
       "Training: |          | 0/? [00:00<?, ?it/s]"
      ]
     },
     "metadata": {},
     "output_type": "display_data"
    },
    {
     "data": {
      "application/vnd.jupyter.widget-view+json": {
       "model_id": "ec3fbc34e930461cb5804fc3883ab93a",
       "version_major": 2,
       "version_minor": 0
      },
      "text/plain": [
       "Validation: |          | 0/? [00:00<?, ?it/s]"
      ]
     },
     "metadata": {},
     "output_type": "display_data"
    },
    {
     "name": "stderr",
     "output_type": "stream",
     "text": [
      "Metric val_f1_macro improved. New best score: 0.393\n",
      "Epoch 0, global step 6691: 'val_f1_macro' reached 0.39271 (best 0.39271), saving model to 'C:\\\\Project\\\\Micosoft Security Indicent\\\\notebooks\\\\checkpoints\\\\fold_3\\\\best-checkpoint-epoch=00-val_f1_macro=0.393.ckpt' as top 1\n"
     ]
    },
    {
     "data": {
      "application/vnd.jupyter.widget-view+json": {
       "model_id": "d6de20d3f3e149e6973a53adbf30af84",
       "version_major": 2,
       "version_minor": 0
      },
      "text/plain": [
       "Validation: |          | 0/? [00:00<?, ?it/s]"
      ]
     },
     "metadata": {},
     "output_type": "display_data"
    },
    {
     "name": "stderr",
     "output_type": "stream",
     "text": [
      "Metric val_f1_macro improved by 0.024 >= min_delta = 0.001. New best score: 0.417\n",
      "Epoch 1, global step 13382: 'val_f1_macro' reached 0.41670 (best 0.41670), saving model to 'C:\\\\Project\\\\Micosoft Security Indicent\\\\notebooks\\\\checkpoints\\\\fold_3\\\\best-checkpoint-epoch=01-val_f1_macro=0.417.ckpt' as top 1\n"
     ]
    },
    {
     "data": {
      "application/vnd.jupyter.widget-view+json": {
       "model_id": "d44ec2bef22c455a912ee75feb540e45",
       "version_major": 2,
       "version_minor": 0
      },
      "text/plain": [
       "Validation: |          | 0/? [00:00<?, ?it/s]"
      ]
     },
     "metadata": {},
     "output_type": "display_data"
    },
    {
     "name": "stderr",
     "output_type": "stream",
     "text": [
      "Epoch 2, global step 20073: 'val_f1_macro' was not in top 1\n"
     ]
    },
    {
     "data": {
      "application/vnd.jupyter.widget-view+json": {
       "model_id": "447925f7cd204624ba4618aee6305998",
       "version_major": 2,
       "version_minor": 0
      },
      "text/plain": [
       "Validation: |          | 0/? [00:00<?, ?it/s]"
      ]
     },
     "metadata": {},
     "output_type": "display_data"
    },
    {
     "name": "stderr",
     "output_type": "stream",
     "text": [
      "Metric val_f1_macro improved by 0.010 >= min_delta = 0.001. New best score: 0.426\n",
      "Epoch 3, global step 26764: 'val_f1_macro' reached 0.42625 (best 0.42625), saving model to 'C:\\\\Project\\\\Micosoft Security Indicent\\\\notebooks\\\\checkpoints\\\\fold_3\\\\best-checkpoint-epoch=03-val_f1_macro=0.426.ckpt' as top 1\n"
     ]
    },
    {
     "data": {
      "application/vnd.jupyter.widget-view+json": {
       "model_id": "a71c947810594f50812c68da58da749a",
       "version_major": 2,
       "version_minor": 0
      },
      "text/plain": [
       "Validation: |          | 0/? [00:00<?, ?it/s]"
      ]
     },
     "metadata": {},
     "output_type": "display_data"
    },
    {
     "name": "stderr",
     "output_type": "stream",
     "text": [
      "Metric val_f1_macro improved by 0.005 >= min_delta = 0.001. New best score: 0.431\n",
      "Epoch 4, global step 33455: 'val_f1_macro' reached 0.43123 (best 0.43123), saving model to 'C:\\\\Project\\\\Micosoft Security Indicent\\\\notebooks\\\\checkpoints\\\\fold_3\\\\best-checkpoint-epoch=04-val_f1_macro=0.431.ckpt' as top 1\n"
     ]
    },
    {
     "data": {
      "application/vnd.jupyter.widget-view+json": {
       "model_id": "de89afc9a6c543dd80cdc17eaa4d0af2",
       "version_major": 2,
       "version_minor": 0
      },
      "text/plain": [
       "Validation: |          | 0/? [00:00<?, ?it/s]"
      ]
     },
     "metadata": {},
     "output_type": "display_data"
    },
    {
     "name": "stderr",
     "output_type": "stream",
     "text": [
      "Metric val_f1_macro improved by 0.007 >= min_delta = 0.001. New best score: 0.438\n",
      "Epoch 5, global step 40146: 'val_f1_macro' reached 0.43819 (best 0.43819), saving model to 'C:\\\\Project\\\\Micosoft Security Indicent\\\\notebooks\\\\checkpoints\\\\fold_3\\\\best-checkpoint-epoch=05-val_f1_macro=0.438.ckpt' as top 1\n"
     ]
    },
    {
     "data": {
      "application/vnd.jupyter.widget-view+json": {
       "model_id": "9cf05824c4c34e57934b62fbd1c62e6d",
       "version_major": 2,
       "version_minor": 0
      },
      "text/plain": [
       "Validation: |          | 0/? [00:00<?, ?it/s]"
      ]
     },
     "metadata": {},
     "output_type": "display_data"
    },
    {
     "name": "stderr",
     "output_type": "stream",
     "text": [
      "Metric val_f1_macro improved by 0.010 >= min_delta = 0.001. New best score: 0.449\n",
      "Epoch 6, global step 46837: 'val_f1_macro' reached 0.44859 (best 0.44859), saving model to 'C:\\\\Project\\\\Micosoft Security Indicent\\\\notebooks\\\\checkpoints\\\\fold_3\\\\best-checkpoint-epoch=06-val_f1_macro=0.449.ckpt' as top 1\n"
     ]
    },
    {
     "data": {
      "application/vnd.jupyter.widget-view+json": {
       "model_id": "3221d087b9d44547a765c94809983737",
       "version_major": 2,
       "version_minor": 0
      },
      "text/plain": [
       "Validation: |          | 0/? [00:00<?, ?it/s]"
      ]
     },
     "metadata": {},
     "output_type": "display_data"
    },
    {
     "name": "stderr",
     "output_type": "stream",
     "text": [
      "Epoch 7, global step 53528: 'val_f1_macro' was not in top 1\n"
     ]
    },
    {
     "data": {
      "application/vnd.jupyter.widget-view+json": {
       "model_id": "f7772beb08d54c9caba7e8f11880c102",
       "version_major": 2,
       "version_minor": 0
      },
      "text/plain": [
       "Validation: |          | 0/? [00:00<?, ?it/s]"
      ]
     },
     "metadata": {},
     "output_type": "display_data"
    },
    {
     "name": "stderr",
     "output_type": "stream",
     "text": [
      "Epoch 8, global step 60219: 'val_f1_macro' was not in top 1\n"
     ]
    },
    {
     "data": {
      "application/vnd.jupyter.widget-view+json": {
       "model_id": "4506d50d826b4d5398cb7c623447a799",
       "version_major": 2,
       "version_minor": 0
      },
      "text/plain": [
       "Validation: |          | 0/? [00:00<?, ?it/s]"
      ]
     },
     "metadata": {},
     "output_type": "display_data"
    },
    {
     "name": "stderr",
     "output_type": "stream",
     "text": [
      "Metric val_f1_macro improved by 0.007 >= min_delta = 0.001. New best score: 0.455\n",
      "Epoch 9, global step 66910: 'val_f1_macro' reached 0.45523 (best 0.45523), saving model to 'C:\\\\Project\\\\Micosoft Security Indicent\\\\notebooks\\\\checkpoints\\\\fold_3\\\\best-checkpoint-epoch=09-val_f1_macro=0.455.ckpt' as top 1\n"
     ]
    },
    {
     "data": {
      "application/vnd.jupyter.widget-view+json": {
       "model_id": "a23b7aa2bdd54de295d506688b30b7c7",
       "version_major": 2,
       "version_minor": 0
      },
      "text/plain": [
       "Validation: |          | 0/? [00:00<?, ?it/s]"
      ]
     },
     "metadata": {},
     "output_type": "display_data"
    },
    {
     "name": "stderr",
     "output_type": "stream",
     "text": [
      "Epoch 10, global step 73601: 'val_f1_macro' was not in top 1\n"
     ]
    },
    {
     "data": {
      "application/vnd.jupyter.widget-view+json": {
       "model_id": "b8f851372e2a4bae9a340d0fe357a111",
       "version_major": 2,
       "version_minor": 0
      },
      "text/plain": [
       "Validation: |          | 0/? [00:00<?, ?it/s]"
      ]
     },
     "metadata": {},
     "output_type": "display_data"
    },
    {
     "name": "stderr",
     "output_type": "stream",
     "text": [
      "Epoch 11, global step 80292: 'val_f1_macro' was not in top 1\n"
     ]
    },
    {
     "data": {
      "application/vnd.jupyter.widget-view+json": {
       "model_id": "e8e823ccc0164a8b8400c2cb82680770",
       "version_major": 2,
       "version_minor": 0
      },
      "text/plain": [
       "Validation: |          | 0/? [00:00<?, ?it/s]"
      ]
     },
     "metadata": {},
     "output_type": "display_data"
    },
    {
     "name": "stderr",
     "output_type": "stream",
     "text": [
      "Epoch 12, global step 86983: 'val_f1_macro' was not in top 1\n"
     ]
    },
    {
     "data": {
      "application/vnd.jupyter.widget-view+json": {
       "model_id": "a6c56f23c6884756b85696a991ebd04d",
       "version_major": 2,
       "version_minor": 0
      },
      "text/plain": [
       "Validation: |          | 0/? [00:00<?, ?it/s]"
      ]
     },
     "metadata": {},
     "output_type": "display_data"
    },
    {
     "name": "stderr",
     "output_type": "stream",
     "text": [
      "Epoch 13, global step 93674: 'val_f1_macro' was not in top 1\n"
     ]
    },
    {
     "data": {
      "application/vnd.jupyter.widget-view+json": {
       "model_id": "986d929129d147ba864ecd01001fabc1",
       "version_major": 2,
       "version_minor": 0
      },
      "text/plain": [
       "Validation: |          | 0/? [00:00<?, ?it/s]"
      ]
     },
     "metadata": {},
     "output_type": "display_data"
    },
    {
     "name": "stderr",
     "output_type": "stream",
     "text": [
      "Metric val_f1_macro improved by 0.019 >= min_delta = 0.001. New best score: 0.475\n",
      "Epoch 14, global step 100365: 'val_f1_macro' reached 0.47453 (best 0.47453), saving model to 'C:\\\\Project\\\\Micosoft Security Indicent\\\\notebooks\\\\checkpoints\\\\fold_3\\\\best-checkpoint-epoch=14-val_f1_macro=0.475.ckpt' as top 1\n",
      "`Trainer.fit` stopped: `max_epochs=15` reached.\n"
     ]
    },
    {
     "name": "stdout",
     "output_type": "stream",
     "text": [
      "Loading best model for inference...\n",
      "Running manual validation predictions...\n",
      "Processed 0/2178 validation batches\n",
      "Processed 100/2178 validation batches\n",
      "Processed 200/2178 validation batches\n",
      "Processed 300/2178 validation batches\n",
      "Processed 400/2178 validation batches\n",
      "Processed 500/2178 validation batches\n",
      "Processed 600/2178 validation batches\n",
      "Processed 700/2178 validation batches\n",
      "Processed 800/2178 validation batches\n",
      "Processed 900/2178 validation batches\n",
      "Processed 1000/2178 validation batches\n",
      "Processed 1100/2178 validation batches\n",
      "Processed 1200/2178 validation batches\n",
      "Processed 1300/2178 validation batches\n",
      "Processed 1400/2178 validation batches\n",
      "Processed 1500/2178 validation batches\n",
      "Processed 1600/2178 validation batches\n",
      "Processed 1700/2178 validation batches\n",
      "Processed 1800/2178 validation batches\n",
      "Processed 1900/2178 validation batches\n",
      "Processed 2000/2178 validation batches\n",
      "Processed 2100/2178 validation batches\n",
      "Fold 3 Best Macro F1: 0.47452\n"
     ]
    },
    {
     "name": "stderr",
     "output_type": "stream",
     "text": [
      "c:\\Project\\Micosoft Security Indicent\\.venv\\Lib\\site-packages\\torch\\nn\\modules\\transformer.py:392: UserWarning: enable_nested_tensor is True, but self.use_nested_tensor is False because encoder_layer.norm_first was True\n",
      "  warnings.warn(\n",
      "Using 16bit Automatic Mixed Precision (AMP)\n",
      "GPU available: True (cuda), used: True\n",
      "TPU available: False, using: 0 TPU cores\n",
      "HPU available: False, using: 0 HPUs\n",
      "LOCAL_RANK: 0 - CUDA_VISIBLE_DEVICES: [0]\n"
     ]
    },
    {
     "name": "stdout",
     "output_type": "stream",
     "text": [
      "Fold 3 completed successfully!\n",
      "\n",
      "==================================================\n",
      "FOLD 4/5\n",
      "==================================================\n",
      "Train samples: 463241, Val samples: 104368\n",
      "DEBUGGING MODEL AND DATA\n",
      "=== DEBUGGING NAN ISSUES ===\n",
      "✓ Model parameters are clean (no NaN)\n",
      "Checking first batch of training data...\n",
      "Batch size: 64\n",
      "Static data shape: torch.Size([64, 6])\n",
      "Static data range: [0.0000, 1465350.0000]\n",
      "Static data is clean\n",
      "No infinite values in static data\n",
      "✓ Sequence data is clean\n",
      "Testing forward pass...\n",
      "Model forward pass successful\n",
      "Logits range: [-2.0370, 1.5383]\n",
      "Starting training for fold 4...\n"
     ]
    },
    {
     "data": {
      "application/vnd.jupyter.widget-view+json": {
       "model_id": "e19cbde9223f4066baeeadadb6387f9d",
       "version_major": 2,
       "version_minor": 0
      },
      "text/plain": [
       "Sanity Checking: |          | 0/? [00:00<?, ?it/s]"
      ]
     },
     "metadata": {},
     "output_type": "display_data"
    },
    {
     "name": "stderr",
     "output_type": "stream",
     "text": [
      "c:\\Project\\Micosoft Security Indicent\\.venv\\Lib\\site-packages\\pytorch_lightning\\trainer\\connectors\\data_connector.py:433: The 'val_dataloader' does not have many workers which may be a bottleneck. Consider increasing the value of the `num_workers` argument` to `num_workers=15` in the `DataLoader` to improve performance.\n",
      "c:\\Project\\Micosoft Security Indicent\\.venv\\Lib\\site-packages\\pytorch_lightning\\trainer\\connectors\\data_connector.py:433: The 'train_dataloader' does not have many workers which may be a bottleneck. Consider increasing the value of the `num_workers` argument` to `num_workers=15` in the `DataLoader` to improve performance.\n",
      "c:\\Project\\Micosoft Security Indicent\\.venv\\Lib\\site-packages\\pytorch_lightning\\loops\\fit_loop.py:527: Found 42 module(s) in eval mode at the start of training. This may lead to unexpected behavior during training. If this is intentional, you can ignore this warning.\n"
     ]
    },
    {
     "data": {
      "application/vnd.jupyter.widget-view+json": {
       "model_id": "c1cddfcd3f6a444eb7ae123f0fcfe9d8",
       "version_major": 2,
       "version_minor": 0
      },
      "text/plain": [
       "Training: |          | 0/? [00:00<?, ?it/s]"
      ]
     },
     "metadata": {},
     "output_type": "display_data"
    },
    {
     "data": {
      "application/vnd.jupyter.widget-view+json": {
       "model_id": "0cd7e99e349f49a08b0edd7ff96c4625",
       "version_major": 2,
       "version_minor": 0
      },
      "text/plain": [
       "Validation: |          | 0/? [00:00<?, ?it/s]"
      ]
     },
     "metadata": {},
     "output_type": "display_data"
    },
    {
     "name": "stderr",
     "output_type": "stream",
     "text": [
      "Metric val_f1_macro improved. New best score: 0.443\n",
      "Epoch 0, global step 7238: 'val_f1_macro' reached 0.44324 (best 0.44324), saving model to 'C:\\\\Project\\\\Micosoft Security Indicent\\\\notebooks\\\\checkpoints\\\\fold_4\\\\best-checkpoint-epoch=00-val_f1_macro=0.443.ckpt' as top 1\n"
     ]
    },
    {
     "data": {
      "application/vnd.jupyter.widget-view+json": {
       "model_id": "cf2bf8d2a8374e698a605d4819e70fa1",
       "version_major": 2,
       "version_minor": 0
      },
      "text/plain": [
       "Validation: |          | 0/? [00:00<?, ?it/s]"
      ]
     },
     "metadata": {},
     "output_type": "display_data"
    },
    {
     "name": "stderr",
     "output_type": "stream",
     "text": [
      "Epoch 1, global step 14476: 'val_f1_macro' was not in top 1\n"
     ]
    },
    {
     "data": {
      "application/vnd.jupyter.widget-view+json": {
       "model_id": "1312606613904abab23add29f604e94a",
       "version_major": 2,
       "version_minor": 0
      },
      "text/plain": [
       "Validation: |          | 0/? [00:00<?, ?it/s]"
      ]
     },
     "metadata": {},
     "output_type": "display_data"
    },
    {
     "name": "stderr",
     "output_type": "stream",
     "text": [
      "Epoch 2, global step 21714: 'val_f1_macro' was not in top 1\n"
     ]
    },
    {
     "data": {
      "application/vnd.jupyter.widget-view+json": {
       "model_id": "f8200709cdb64339b8716842b0265f73",
       "version_major": 2,
       "version_minor": 0
      },
      "text/plain": [
       "Validation: |          | 0/? [00:00<?, ?it/s]"
      ]
     },
     "metadata": {},
     "output_type": "display_data"
    },
    {
     "name": "stderr",
     "output_type": "stream",
     "text": [
      "Epoch 3, global step 28952: 'val_f1_macro' was not in top 1\n"
     ]
    },
    {
     "data": {
      "application/vnd.jupyter.widget-view+json": {
       "model_id": "305c7de27c904c1cb1ba6a3799715d91",
       "version_major": 2,
       "version_minor": 0
      },
      "text/plain": [
       "Validation: |          | 0/? [00:00<?, ?it/s]"
      ]
     },
     "metadata": {},
     "output_type": "display_data"
    },
    {
     "name": "stderr",
     "output_type": "stream",
     "text": [
      "Metric val_f1_macro improved by 0.019 >= min_delta = 0.001. New best score: 0.462\n",
      "Epoch 4, global step 36190: 'val_f1_macro' reached 0.46184 (best 0.46184), saving model to 'C:\\\\Project\\\\Micosoft Security Indicent\\\\notebooks\\\\checkpoints\\\\fold_4\\\\best-checkpoint-epoch=04-val_f1_macro=0.462.ckpt' as top 1\n"
     ]
    },
    {
     "data": {
      "application/vnd.jupyter.widget-view+json": {
       "model_id": "f32ffbdaf0fd47c68d42fbe7c038bbef",
       "version_major": 2,
       "version_minor": 0
      },
      "text/plain": [
       "Validation: |          | 0/? [00:00<?, ?it/s]"
      ]
     },
     "metadata": {},
     "output_type": "display_data"
    },
    {
     "name": "stderr",
     "output_type": "stream",
     "text": [
      "Epoch 5, global step 43428: 'val_f1_macro' was not in top 1\n"
     ]
    },
    {
     "data": {
      "application/vnd.jupyter.widget-view+json": {
       "model_id": "9ef5d032059b4f409533b81331bd6fb8",
       "version_major": 2,
       "version_minor": 0
      },
      "text/plain": [
       "Validation: |          | 0/? [00:00<?, ?it/s]"
      ]
     },
     "metadata": {},
     "output_type": "display_data"
    },
    {
     "name": "stderr",
     "output_type": "stream",
     "text": [
      "Metric val_f1_macro improved by 0.002 >= min_delta = 0.001. New best score: 0.464\n",
      "Epoch 6, global step 50666: 'val_f1_macro' reached 0.46396 (best 0.46396), saving model to 'C:\\\\Project\\\\Micosoft Security Indicent\\\\notebooks\\\\checkpoints\\\\fold_4\\\\best-checkpoint-epoch=06-val_f1_macro=0.464.ckpt' as top 1\n"
     ]
    },
    {
     "data": {
      "application/vnd.jupyter.widget-view+json": {
       "model_id": "3f68300936404d83bea79c1cdec31663",
       "version_major": 2,
       "version_minor": 0
      },
      "text/plain": [
       "Validation: |          | 0/? [00:00<?, ?it/s]"
      ]
     },
     "metadata": {},
     "output_type": "display_data"
    },
    {
     "name": "stderr",
     "output_type": "stream",
     "text": [
      "Epoch 7, global step 57904: 'val_f1_macro' was not in top 1\n"
     ]
    },
    {
     "data": {
      "application/vnd.jupyter.widget-view+json": {
       "model_id": "efa6e76abd064598b74744597e10fed9",
       "version_major": 2,
       "version_minor": 0
      },
      "text/plain": [
       "Validation: |          | 0/? [00:00<?, ?it/s]"
      ]
     },
     "metadata": {},
     "output_type": "display_data"
    },
    {
     "name": "stderr",
     "output_type": "stream",
     "text": [
      "Metric val_f1_macro improved by 0.003 >= min_delta = 0.001. New best score: 0.467\n",
      "Epoch 8, global step 65142: 'val_f1_macro' reached 0.46735 (best 0.46735), saving model to 'C:\\\\Project\\\\Micosoft Security Indicent\\\\notebooks\\\\checkpoints\\\\fold_4\\\\best-checkpoint-epoch=08-val_f1_macro=0.467.ckpt' as top 1\n"
     ]
    },
    {
     "data": {
      "application/vnd.jupyter.widget-view+json": {
       "model_id": "2bc5b806ec0a45a5b4b8b5738e64c230",
       "version_major": 2,
       "version_minor": 0
      },
      "text/plain": [
       "Validation: |          | 0/? [00:00<?, ?it/s]"
      ]
     },
     "metadata": {},
     "output_type": "display_data"
    },
    {
     "name": "stderr",
     "output_type": "stream",
     "text": [
      "Epoch 9, global step 72380: 'val_f1_macro' was not in top 1\n"
     ]
    },
    {
     "data": {
      "application/vnd.jupyter.widget-view+json": {
       "model_id": "8fd570b5f08048639e0f1dcb0be8f58b",
       "version_major": 2,
       "version_minor": 0
      },
      "text/plain": [
       "Validation: |          | 0/? [00:00<?, ?it/s]"
      ]
     },
     "metadata": {},
     "output_type": "display_data"
    },
    {
     "name": "stderr",
     "output_type": "stream",
     "text": [
      "Epoch 10, global step 79618: 'val_f1_macro' was not in top 1\n"
     ]
    },
    {
     "data": {
      "application/vnd.jupyter.widget-view+json": {
       "model_id": "61aa44d25e324ed58cb414d8b733a2c1",
       "version_major": 2,
       "version_minor": 0
      },
      "text/plain": [
       "Validation: |          | 0/? [00:00<?, ?it/s]"
      ]
     },
     "metadata": {},
     "output_type": "display_data"
    },
    {
     "name": "stderr",
     "output_type": "stream",
     "text": [
      "Metric val_f1_macro improved by 0.002 >= min_delta = 0.001. New best score: 0.469\n",
      "Epoch 11, global step 86856: 'val_f1_macro' reached 0.46919 (best 0.46919), saving model to 'C:\\\\Project\\\\Micosoft Security Indicent\\\\notebooks\\\\checkpoints\\\\fold_4\\\\best-checkpoint-epoch=11-val_f1_macro=0.469.ckpt' as top 1\n"
     ]
    },
    {
     "data": {
      "application/vnd.jupyter.widget-view+json": {
       "model_id": "2b91aa92fcd44a219db0ff80013d1081",
       "version_major": 2,
       "version_minor": 0
      },
      "text/plain": [
       "Validation: |          | 0/? [00:00<?, ?it/s]"
      ]
     },
     "metadata": {},
     "output_type": "display_data"
    },
    {
     "name": "stderr",
     "output_type": "stream",
     "text": [
      "Epoch 12, global step 94094: 'val_f1_macro' was not in top 1\n"
     ]
    },
    {
     "data": {
      "application/vnd.jupyter.widget-view+json": {
       "model_id": "e89686d4610f417b9f8bcd1ee42f6e12",
       "version_major": 2,
       "version_minor": 0
      },
      "text/plain": [
       "Validation: |          | 0/? [00:00<?, ?it/s]"
      ]
     },
     "metadata": {},
     "output_type": "display_data"
    },
    {
     "name": "stderr",
     "output_type": "stream",
     "text": [
      "Epoch 13, global step 101332: 'val_f1_macro' was not in top 1\n"
     ]
    },
    {
     "data": {
      "application/vnd.jupyter.widget-view+json": {
       "model_id": "2ecec5c8cf9c4c65ba29442582ecd603",
       "version_major": 2,
       "version_minor": 0
      },
      "text/plain": [
       "Validation: |          | 0/? [00:00<?, ?it/s]"
      ]
     },
     "metadata": {},
     "output_type": "display_data"
    },
    {
     "name": "stderr",
     "output_type": "stream",
     "text": [
      "Epoch 14, global step 108570: 'val_f1_macro' was not in top 1\n",
      "`Trainer.fit` stopped: `max_epochs=15` reached.\n"
     ]
    },
    {
     "name": "stdout",
     "output_type": "stream",
     "text": [
      "Loading best model for inference...\n",
      "Running manual validation predictions...\n",
      "Processed 0/1631 validation batches\n",
      "Processed 100/1631 validation batches\n",
      "Processed 200/1631 validation batches\n",
      "Processed 300/1631 validation batches\n",
      "Processed 400/1631 validation batches\n",
      "Processed 500/1631 validation batches\n",
      "Processed 600/1631 validation batches\n",
      "Processed 700/1631 validation batches\n",
      "Processed 800/1631 validation batches\n",
      "Processed 900/1631 validation batches\n",
      "Processed 1000/1631 validation batches\n",
      "Processed 1100/1631 validation batches\n",
      "Processed 1200/1631 validation batches\n",
      "Processed 1300/1631 validation batches\n",
      "Processed 1400/1631 validation batches\n",
      "Processed 1500/1631 validation batches\n",
      "Processed 1600/1631 validation batches\n",
      "Fold 4 Best Macro F1: 0.46922\n"
     ]
    },
    {
     "name": "stderr",
     "output_type": "stream",
     "text": [
      "c:\\Project\\Micosoft Security Indicent\\.venv\\Lib\\site-packages\\torch\\nn\\modules\\transformer.py:392: UserWarning: enable_nested_tensor is True, but self.use_nested_tensor is False because encoder_layer.norm_first was True\n",
      "  warnings.warn(\n",
      "Using 16bit Automatic Mixed Precision (AMP)\n",
      "GPU available: True (cuda), used: True\n",
      "TPU available: False, using: 0 TPU cores\n",
      "HPU available: False, using: 0 HPUs\n",
      "LOCAL_RANK: 0 - CUDA_VISIBLE_DEVICES: [0]\n"
     ]
    },
    {
     "name": "stdout",
     "output_type": "stream",
     "text": [
      "Fold 4 completed successfully!\n",
      "\n",
      "==================================================\n",
      "FOLD 5/5\n",
      "==================================================\n",
      "Train samples: 416046, Val samples: 151563\n",
      "DEBUGGING MODEL AND DATA\n",
      "=== DEBUGGING NAN ISSUES ===\n",
      "✓ Model parameters are clean (no NaN)\n",
      "Checking first batch of training data...\n",
      "Batch size: 64\n",
      "Static data shape: torch.Size([64, 6])\n",
      "Static data range: [0.0000, 2044799.0000]\n",
      "Static data is clean\n",
      "No infinite values in static data\n",
      "✓ Sequence data is clean\n",
      "Testing forward pass...\n",
      "Model forward pass successful\n",
      "Logits range: [-1.4639, 2.5064]\n",
      "Starting training for fold 5...\n"
     ]
    },
    {
     "data": {
      "application/vnd.jupyter.widget-view+json": {
       "model_id": "b4270ae1936e4c48a814f9d4d40b40ad",
       "version_major": 2,
       "version_minor": 0
      },
      "text/plain": [
       "Sanity Checking: |          | 0/? [00:00<?, ?it/s]"
      ]
     },
     "metadata": {},
     "output_type": "display_data"
    },
    {
     "name": "stderr",
     "output_type": "stream",
     "text": [
      "c:\\Project\\Micosoft Security Indicent\\.venv\\Lib\\site-packages\\pytorch_lightning\\trainer\\connectors\\data_connector.py:433: The 'val_dataloader' does not have many workers which may be a bottleneck. Consider increasing the value of the `num_workers` argument` to `num_workers=15` in the `DataLoader` to improve performance.\n",
      "c:\\Project\\Micosoft Security Indicent\\.venv\\Lib\\site-packages\\pytorch_lightning\\trainer\\connectors\\data_connector.py:433: The 'train_dataloader' does not have many workers which may be a bottleneck. Consider increasing the value of the `num_workers` argument` to `num_workers=15` in the `DataLoader` to improve performance.\n",
      "c:\\Project\\Micosoft Security Indicent\\.venv\\Lib\\site-packages\\pytorch_lightning\\loops\\fit_loop.py:527: Found 42 module(s) in eval mode at the start of training. This may lead to unexpected behavior during training. If this is intentional, you can ignore this warning.\n"
     ]
    },
    {
     "data": {
      "application/vnd.jupyter.widget-view+json": {
       "model_id": "1ee124bc35f54a2a959c32fb5a9eb691",
       "version_major": 2,
       "version_minor": 0
      },
      "text/plain": [
       "Training: |          | 0/? [00:00<?, ?it/s]"
      ]
     },
     "metadata": {},
     "output_type": "display_data"
    },
    {
     "data": {
      "application/vnd.jupyter.widget-view+json": {
       "model_id": "131e9f7d25a449c0a9d559c76cfe5796",
       "version_major": 2,
       "version_minor": 0
      },
      "text/plain": [
       "Validation: |          | 0/? [00:00<?, ?it/s]"
      ]
     },
     "metadata": {},
     "output_type": "display_data"
    },
    {
     "name": "stderr",
     "output_type": "stream",
     "text": [
      "Metric val_f1_macro improved. New best score: 0.319\n",
      "Epoch 0, global step 6500: 'val_f1_macro' reached 0.31927 (best 0.31927), saving model to 'C:\\\\Project\\\\Micosoft Security Indicent\\\\notebooks\\\\checkpoints\\\\fold_5\\\\best-checkpoint-epoch=00-val_f1_macro=0.319.ckpt' as top 1\n"
     ]
    },
    {
     "data": {
      "application/vnd.jupyter.widget-view+json": {
       "model_id": "66f9b45e41a2465ab13fdf7a0c8146b5",
       "version_major": 2,
       "version_minor": 0
      },
      "text/plain": [
       "Validation: |          | 0/? [00:00<?, ?it/s]"
      ]
     },
     "metadata": {},
     "output_type": "display_data"
    },
    {
     "name": "stderr",
     "output_type": "stream",
     "text": [
      "Metric val_f1_macro improved by 0.010 >= min_delta = 0.001. New best score: 0.330\n",
      "Epoch 1, global step 13000: 'val_f1_macro' reached 0.32964 (best 0.32964), saving model to 'C:\\\\Project\\\\Micosoft Security Indicent\\\\notebooks\\\\checkpoints\\\\fold_5\\\\best-checkpoint-epoch=01-val_f1_macro=0.330.ckpt' as top 1\n"
     ]
    },
    {
     "data": {
      "application/vnd.jupyter.widget-view+json": {
       "model_id": "502b10c43bf5409bbb5774ccace2951d",
       "version_major": 2,
       "version_minor": 0
      },
      "text/plain": [
       "Validation: |          | 0/? [00:00<?, ?it/s]"
      ]
     },
     "metadata": {},
     "output_type": "display_data"
    },
    {
     "name": "stderr",
     "output_type": "stream",
     "text": [
      "Epoch 2, global step 19500: 'val_f1_macro' was not in top 1\n"
     ]
    },
    {
     "data": {
      "application/vnd.jupyter.widget-view+json": {
       "model_id": "fca86a6238034e1882d6e42b4be6fa07",
       "version_major": 2,
       "version_minor": 0
      },
      "text/plain": [
       "Validation: |          | 0/? [00:00<?, ?it/s]"
      ]
     },
     "metadata": {},
     "output_type": "display_data"
    },
    {
     "name": "stderr",
     "output_type": "stream",
     "text": [
      "Metric val_f1_macro improved by 0.005 >= min_delta = 0.001. New best score: 0.334\n",
      "Epoch 3, global step 26000: 'val_f1_macro' reached 0.33425 (best 0.33425), saving model to 'C:\\\\Project\\\\Micosoft Security Indicent\\\\notebooks\\\\checkpoints\\\\fold_5\\\\best-checkpoint-epoch=03-val_f1_macro=0.334.ckpt' as top 1\n"
     ]
    },
    {
     "data": {
      "application/vnd.jupyter.widget-view+json": {
       "model_id": "a3bfdaa7d3254678849943a4f3626728",
       "version_major": 2,
       "version_minor": 0
      },
      "text/plain": [
       "Validation: |          | 0/? [00:00<?, ?it/s]"
      ]
     },
     "metadata": {},
     "output_type": "display_data"
    },
    {
     "name": "stderr",
     "output_type": "stream",
     "text": [
      "Epoch 4, global step 32500: 'val_f1_macro' was not in top 1\n"
     ]
    },
    {
     "data": {
      "application/vnd.jupyter.widget-view+json": {
       "model_id": "e368ffbf93af454b996fafedb93387e5",
       "version_major": 2,
       "version_minor": 0
      },
      "text/plain": [
       "Validation: |          | 0/? [00:00<?, ?it/s]"
      ]
     },
     "metadata": {},
     "output_type": "display_data"
    },
    {
     "name": "stderr",
     "output_type": "stream",
     "text": [
      "Metric val_f1_macro improved by 0.002 >= min_delta = 0.001. New best score: 0.336\n",
      "Epoch 5, global step 39000: 'val_f1_macro' reached 0.33644 (best 0.33644), saving model to 'C:\\\\Project\\\\Micosoft Security Indicent\\\\notebooks\\\\checkpoints\\\\fold_5\\\\best-checkpoint-epoch=05-val_f1_macro=0.336.ckpt' as top 1\n"
     ]
    },
    {
     "data": {
      "application/vnd.jupyter.widget-view+json": {
       "model_id": "91d0484fbd224ff0b911257bfa488dac",
       "version_major": 2,
       "version_minor": 0
      },
      "text/plain": [
       "Validation: |          | 0/? [00:00<?, ?it/s]"
      ]
     },
     "metadata": {},
     "output_type": "display_data"
    },
    {
     "name": "stderr",
     "output_type": "stream",
     "text": [
      "Epoch 6, global step 45500: 'val_f1_macro' was not in top 1\n"
     ]
    },
    {
     "data": {
      "application/vnd.jupyter.widget-view+json": {
       "model_id": "42ca959288614dbead02468a3811f926",
       "version_major": 2,
       "version_minor": 0
      },
      "text/plain": [
       "Validation: |          | 0/? [00:00<?, ?it/s]"
      ]
     },
     "metadata": {},
     "output_type": "display_data"
    },
    {
     "name": "stderr",
     "output_type": "stream",
     "text": [
      "Epoch 7, global step 52000: 'val_f1_macro' was not in top 1\n"
     ]
    },
    {
     "data": {
      "application/vnd.jupyter.widget-view+json": {
       "model_id": "ae61e2fe99354d6f9ac0984673f9e1ab",
       "version_major": 2,
       "version_minor": 0
      },
      "text/plain": [
       "Validation: |          | 0/? [00:00<?, ?it/s]"
      ]
     },
     "metadata": {},
     "output_type": "display_data"
    },
    {
     "name": "stderr",
     "output_type": "stream",
     "text": [
      "Epoch 8, global step 58500: 'val_f1_macro' was not in top 1\n"
     ]
    },
    {
     "data": {
      "application/vnd.jupyter.widget-view+json": {
       "model_id": "e2aa1f30fa8d4792852ff32110b56474",
       "version_major": 2,
       "version_minor": 0
      },
      "text/plain": [
       "Validation: |          | 0/? [00:00<?, ?it/s]"
      ]
     },
     "metadata": {},
     "output_type": "display_data"
    },
    {
     "name": "stderr",
     "output_type": "stream",
     "text": [
      "Epoch 9, global step 65000: 'val_f1_macro' was not in top 1\n"
     ]
    },
    {
     "data": {
      "application/vnd.jupyter.widget-view+json": {
       "model_id": "d46deaf5c6074cad998bee6c6e271c27",
       "version_major": 2,
       "version_minor": 0
      },
      "text/plain": [
       "Validation: |          | 0/? [00:00<?, ?it/s]"
      ]
     },
     "metadata": {},
     "output_type": "display_data"
    },
    {
     "name": "stderr",
     "output_type": "stream",
     "text": [
      "Monitored metric val_f1_macro did not improve in the last 5 records. Best score: 0.336. Signaling Trainer to stop.\n",
      "Epoch 10, global step 71500: 'val_f1_macro' was not in top 1\n"
     ]
    },
    {
     "name": "stdout",
     "output_type": "stream",
     "text": [
      "Loading best model for inference...\n",
      "Running manual validation predictions...\n",
      "Processed 0/2369 validation batches\n",
      "Processed 100/2369 validation batches\n",
      "Processed 200/2369 validation batches\n",
      "Processed 300/2369 validation batches\n",
      "Processed 400/2369 validation batches\n",
      "Processed 500/2369 validation batches\n",
      "Processed 600/2369 validation batches\n",
      "Processed 700/2369 validation batches\n",
      "Processed 800/2369 validation batches\n",
      "Processed 900/2369 validation batches\n",
      "Processed 1000/2369 validation batches\n",
      "Processed 1100/2369 validation batches\n",
      "Processed 1200/2369 validation batches\n",
      "Processed 1300/2369 validation batches\n",
      "Processed 1400/2369 validation batches\n",
      "Processed 1500/2369 validation batches\n",
      "Processed 1600/2369 validation batches\n",
      "Processed 1700/2369 validation batches\n",
      "Processed 1800/2369 validation batches\n",
      "Processed 1900/2369 validation batches\n",
      "Processed 2000/2369 validation batches\n",
      "Processed 2100/2369 validation batches\n",
      "Processed 2200/2369 validation batches\n",
      "Processed 2300/2369 validation batches\n",
      "Fold 5 Best Macro F1: 0.33650\n",
      "Fold 5 completed successfully!\n"
     ]
    }
   ],
   "source": [
    "from sklearn.metrics import f1_score\n",
    "import gc\n",
    "\n",
    "for fold, (train_idx, val_idx) in enumerate(skf.split(np.zeros(len(dataset)), labels_for_split, groups)):\n",
    "    print(f\"\\n{'='*50}\")\n",
    "    print(f\"FOLD {fold+1}/{N_SPLITS}\")\n",
    "    print(f\"{'='*50}\")\n",
    "    \n",
    "    # Create subsets\n",
    "    train_subset = Subset(dataset, train_idx)\n",
    "    val_subset = Subset(dataset, val_idx)\n",
    "    \n",
    "    print(f\"Train samples: {len(train_subset)}, Val samples: {len(val_subset)}\")\n",
    "    \n",
    "    # Optimized data loaders\n",
    "    train_loader = DataLoader(\n",
    "        train_subset, \n",
    "        batch_size=BATCH_SIZE, \n",
    "        shuffle=True,\n",
    "        num_workers=NUM_WORKERS,\n",
    "        pin_memory=True,\n",
    "        drop_last=True,  \n",
    "        collate_fn=collate_fn\n",
    "    )\n",
    "    \n",
    "    val_loader = DataLoader(\n",
    "        val_subset, \n",
    "        batch_size=BATCH_SIZE,\n",
    "        shuffle=False,\n",
    "        num_workers=NUM_WORKERS,\n",
    "        pin_memory=True,\n",
    "        collate_fn=collate_fn\n",
    "    )\n",
    "    \n",
    "    # Initialize model\n",
    "    model_instance = StableIncidentTransformer(\n",
    "    vocab_sizes=vocab_sizes, \n",
    "    num_static_features=num_static_features, \n",
    "    num_classes=num_classes,\n",
    "    embed_dim=64,\n",
    "    nhead=4,\n",
    "    num_encoder_layers=2,\n",
    "    dim_feedforward=256,\n",
    "    dropout=0.1\n",
    "    )\n",
    "    \n",
    "    lightning_model = StableIncidentClassifier(\n",
    "    model_instance, \n",
    "    dataset.class_names,\n",
    "    learning_rate=1e-5  \n",
    "    )\n",
    "    \n",
    "    # Callbacks\n",
    "    checkpoint_callback = pl.callbacks.ModelCheckpoint(\n",
    "        monitor='val_f1_macro',\n",
    "        mode='max',\n",
    "        dirpath=f'checkpoints/fold_{fold+1}',\n",
    "        filename='best-checkpoint-{epoch:02d}-{val_f1_macro:.3f}',\n",
    "        save_top_k=1,\n",
    "        verbose=True\n",
    "    )\n",
    "    \n",
    "    early_stop_callback = pl.callbacks.EarlyStopping(\n",
    "        monitor='val_f1_macro',\n",
    "        patience=5,  \n",
    "        verbose=True,\n",
    "        mode='max',\n",
    "        min_delta=0.001\n",
    "    )\n",
    "    \n",
    "    lr_monitor = pl.callbacks.LearningRateMonitor(logging_interval='epoch')\n",
    "    \n",
    "    logger = TensorBoardLogger(\n",
    "        \"tb_logs\", \n",
    "        name=f\"optimized_transformer_fold_{fold+1}\",\n",
    "        version=None\n",
    "    )\n",
    "    \n",
    "    trainer = pl.Trainer(\n",
    "        max_epochs=EPOCHS,\n",
    "        logger=logger,\n",
    "        callbacks=[checkpoint_callback, early_stop_callback, lr_monitor],\n",
    "        accelerator='gpu',\n",
    "        devices=1,\n",
    "        precision='16-mixed',\n",
    "        gradient_clip_val=1.0,\n",
    "        accumulate_grad_batches=1,  \n",
    "        log_every_n_steps=min(50, len(train_loader) // 4),  \n",
    "        enable_progress_bar=True,\n",
    "        enable_model_summary=False,  \n",
    "        deterministic=False,  \n",
    "        benchmark=True,  \n",
    "        sync_batchnorm=False,\n",
    "        enable_checkpointing=True,\n",
    "        detect_anomaly=False  \n",
    "    )\n",
    "    \n",
    "    try:\n",
    "        print(\"DEBUGGING MODEL AND DATA\")\n",
    "        is_data_clean = debug_model_and_data(model_instance, train_loader)\n",
    "        if not is_data_clean:\n",
    "            print(\"Data issues detected! Fixing...\")\n",
    "            dataset.static_cache = preprocess_static_features(dataset.static_cache)\n",
    "            print(\"✓ Static features preprocessed and normalized\")    \n",
    "\n",
    "        print(f\"Starting training for fold {fold+1}...\")\n",
    "        \n",
    "        trainer.fit(lightning_model, train_loader, val_loader)\n",
    "        \n",
    "        print(\"Loading best model for inference...\")\n",
    "        best_model = OptimizedIncidentClassifier.load_from_checkpoint(\n",
    "            checkpoint_callback.best_model_path,\n",
    "            model=model_instance,\n",
    "            class_names=dataset.class_names\n",
    "        )\n",
    "        \n",
    "        print(\"Running manual validation predictions...\")\n",
    "        best_model.eval()\n",
    "        best_model = best_model.cuda()\n",
    "\n",
    "        val_predictions = []\n",
    "        val_true_labels = []\n",
    "\n",
    "        with torch.no_grad():\n",
    "            for batch_idx, batch in enumerate(val_loader):\n",
    "                sequences, static_data, labels = batch\n",
    "                \n",
    "                sequences = {k: v.cuda() for k, v in sequences.items()}\n",
    "                static_data = static_data.cuda()\n",
    "                \n",
    "                try:\n",
    "                    logits = best_model(sequences, static_data)\n",
    "                    preds = torch.argmax(logits, dim=1)\n",
    "                    \n",
    "                    val_predictions.extend(preds.cpu().numpy())\n",
    "                    val_true_labels.extend(labels.cpu().numpy())\n",
    "                    \n",
    "                except Exception as e:\n",
    "                    print(f\"Error in batch {batch_idx}: {e}\")\n",
    "                    continue\n",
    "                \n",
    "                if batch_idx % 100 == 0:\n",
    "                    print(f\"Processed {batch_idx}/{len(val_loader)} validation batches\")\n",
    "        \n",
    "        oof_preds[val_idx] = val_predictions[:len(val_idx)]\n",
    "        oof_labels[val_idx] = val_true_labels[:len(val_idx)]\n",
    "        \n",
    "        fold_f1 = f1_score(val_true_labels[:len(val_idx)], val_predictions[:len(val_idx)], average='macro')\n",
    "        print(f\"Fold {fold+1} Best Macro F1: {fold_f1:.5f}\")\n",
    "        \n",
    "        del best_model, lightning_model, model_instance, trainer,\n",
    "        torch.cuda.empty_cache()\n",
    "        gc.collect()\n",
    "        \n",
    "    except Exception as e:\n",
    "        print(f\"Error in fold {fold+1}: {str(e)}\")\n",
    "        import traceback\n",
    "        traceback.print_exc()\n",
    "        continue\n",
    "    \n",
    "    print(f\"Fold {fold+1} completed successfully!\")"
   ]
  },
  {
   "cell_type": "code",
   "execution_count": null,
   "id": "74045e3f",
   "metadata": {},
   "outputs": [
    {
     "name": "stdout",
     "output_type": "stream",
     "text": [
      "Total samples in dataset: 567609\n",
      "Samples with predictions: 567609\n",
      "Missing predictions: 0\n",
      "\n",
      "============================================================\n",
      "FINAL RESULTS\n",
      "============================================================\n",
      "Overall Out-of-Fold Macro F1: 0.42694\n",
      "Overall Accuracy: 0.48395\n",
      "Total samples processed: 567609\n"
     ]
    }
   ],
   "source": [
    "from sklearn.metrics import classification_report, accuracy_score\n",
    "\n",
    "valid_mask = (oof_preds != -1) & (oof_labels != -1)  \n",
    "print(f\"Total samples in dataset: {len(dataset)}\")\n",
    "print(f\"Samples with predictions: {np.sum(valid_mask)}\")\n",
    "print(f\"Missing predictions: {len(dataset) - np.sum(valid_mask)}\")\n",
    "\n",
    "overall_f1 = f1_score(oof_labels[valid_mask], oof_preds[valid_mask], average='macro')\n",
    "overall_accuracy = accuracy_score(oof_labels[valid_mask], oof_preds[valid_mask])\n",
    "\n",
    "print(f\"\\n{'='*60}\")\n",
    "print(f\"FINAL RESULTS\")\n",
    "print(f\"{'='*60}\")\n",
    "print(f\"Overall Out-of-Fold Macro F1: {overall_f1:.5f}\")\n",
    "print(f\"Overall Accuracy: {overall_accuracy:.5f}\")\n",
    "print(f\"Total samples processed: {np.sum(valid_mask)}\")\n"
   ]
  },
  {
   "cell_type": "code",
   "execution_count": 20,
   "id": "91ccb7df",
   "metadata": {},
   "outputs": [
    {
     "name": "stdout",
     "output_type": "stream",
     "text": [
      "CLASSIFICATION REPORT\n",
      "                precision    recall  f1-score   support\n",
      "\n",
      "  TruePositive     0.2511    0.2280    0.2390    129343\n",
      "BenignPositive     0.5472    0.6986    0.6137    260495\n",
      " FalsePositive     0.5377    0.3557    0.4281    177771\n",
      "\n",
      "      accuracy                         0.4839    567609\n",
      "     macro avg     0.4453    0.4274    0.4269    567609\n",
      "  weighted avg     0.4767    0.4839    0.4702    567609\n",
      "\n",
      "CONFUSION MATRIX\n",
      "Rows = Actual, Columns = Predicted\n",
      "Classes: Index(['TruePositive', 'BenignPositive', 'FalsePositive'], dtype='object')\n",
      "[[ 29494  80431  19418]\n",
      " [ 43573 181970  34952]\n",
      " [ 44389  70154  63228]]\n",
      "PER-FOLD BREAKDOWN\n"
     ]
    }
   ],
   "source": [
    "# Detailed classification report\n",
    "print(\"CLASSIFICATION REPORT\")\n",
    "print(classification_report(\n",
    "    oof_labels[valid_mask], \n",
    "    oof_preds[valid_mask], \n",
    "    target_names=dataset.class_names,\n",
    "    digits=4\n",
    "))\n",
    "\n",
    "# Confusion matrix for additional insights\n",
    "from sklearn.metrics import confusion_matrix\n",
    "cm = confusion_matrix(oof_labels[valid_mask], oof_preds[valid_mask])\n",
    "print(\"CONFUSION MATRIX\")\n",
    "print(\"Rows = Actual, Columns = Predicted\")\n",
    "print(f\"Classes: {dataset.class_names}\")\n",
    "print(cm)\n",
    "\n",
    "# Per-fold performance breakdown\n",
    "print(\"PER-FOLD BREAKDOWN\")\n"
   ]
  },
  {
   "cell_type": "code",
   "execution_count": null,
   "id": "0c987dd7",
   "metadata": {},
   "outputs": [],
   "source": []
  }
 ],
 "metadata": {
  "kernelspec": {
   "display_name": ".venv",
   "language": "python",
   "name": "python3"
  },
  "language_info": {
   "codemirror_mode": {
    "name": "ipython",
    "version": 3
   },
   "file_extension": ".py",
   "mimetype": "text/x-python",
   "name": "python",
   "nbconvert_exporter": "python",
   "pygments_lexer": "ipython3",
   "version": "3.13.7"
  }
 },
 "nbformat": 4,
 "nbformat_minor": 5
}
