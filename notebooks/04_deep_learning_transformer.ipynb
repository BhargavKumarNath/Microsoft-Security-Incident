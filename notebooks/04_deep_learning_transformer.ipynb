{
 "cells": [
  {
   "cell_type": "code",
   "execution_count": 1,
   "id": "2364df8d",
   "metadata": {},
   "outputs": [],
   "source": [
    "import polars as pl\n",
    "import numpy as np\n",
    "import pickle\n",
    "from pathlib import Path"
   ]
  },
  {
   "cell_type": "code",
   "execution_count": 2,
   "id": "b6571e0b",
   "metadata": {},
   "outputs": [],
   "source": [
    "RAW_TRAIN_PATH = '../data/raw/GUIDE_Train.parquet'\n",
    "PROCESSED_INCIDENT_FEATURES_PATH = '../data/processed/incident_features.parquet'\n",
    "DL_PROCESSED_DATA_DIR = Path('../data/processed_dl/')\n",
    "DL_PROCESSED_DATA_DIR.mkdir(exist_ok=True)\n",
    "\n",
    "MAX_SEQ_LENGTH = 128"
   ]
  },
  {
   "cell_type": "code",
   "execution_count": null,
   "id": "43ba07de",
   "metadata": {},
   "outputs": [
    {
     "name": "stdout",
     "output_type": "stream",
     "text": [
      "--- Phase 4.1: Preparing Data for Sequence Modeling ---\n",
      "Loading raw and processed data...\n"
     ]
    }
   ],
   "source": [
    "print(\"--- Phase 4.1: Preparing Data for Sequence Modeling ---\")\n",
    "\n",
    "#  1. Load Data \n",
    "print(\"Loading raw and processed data...\")\n",
    "raw_df = pl.read_parquet(RAW_TRAIN_PATH)\n",
    "incident_features_df = pl.read_parquet(PROCESSED_INCIDENT_FEATURES_PATH)\n",
    "\n",
    "sequential_features = [\n",
    "    'Category',\n",
    "    'DetectorId',\n",
    "    'EntityType',\n",
    "    'MitreTechniques' \n",
    "]\n",
    "\n",
    "static_features = [\n",
    "    'OrgId',\n",
    "    'evidence_count',\n",
    "    'unique_alert_count',\n",
    "    'incident_duration_seconds',\n",
    "    'evidence_rate',\n",
    "    'alert_rate'\n",
    "]\n"
   ]
  },
  {
   "cell_type": "code",
   "execution_count": 4,
   "id": "bbb77f40",
   "metadata": {},
   "outputs": [
    {
     "name": "stdout",
     "output_type": "stream",
     "text": [
      "Creating vocabularies for sequential features...\n",
      "  Vocabulary for 'Category' has 21 unique tokens.\n",
      "  Vocabulary for 'DetectorId' has 8429 unique tokens.\n",
      "  Vocabulary for 'EntityType' has 34 unique tokens.\n",
      "  Vocabulary for 'MitreTechniques' has 1195 unique tokens.\n"
     ]
    }
   ],
   "source": [
    "print(\"Creating vocabularies for sequential features...\")\n",
    "vocabularies = {}\n",
    "for col in sequential_features:\n",
    "    unique_vals = raw_df[col].fill_null('[NULL]').unique().to_list()\n",
    "    vocab = {val: i + 1 for i, val in enumerate(unique_vals)}\n",
    "    vocab['[PAD]'] = 0  # Padding token\n",
    "    vocabularies[col] = vocab\n",
    "    print(f\"  Vocabulary for '{col}' has {len(vocab)} unique tokens.\")\n",
    "\n",
    "with open(DL_PROCESSED_DATA_DIR / 'vocabularies.pkl', 'wb') as f:\n",
    "    pickle.dump(vocabularies, f)\n"
   ]
  },
  {
   "cell_type": "code",
   "execution_count": null,
   "id": "59516c4c",
   "metadata": {},
   "outputs": [
    {
     "name": "stdout",
     "output_type": "stream",
     "text": [
      "Grouping by IncidentId and creating tokenized sequences...\n",
      "Tokenization complete.\n",
      "Shape of sequential data: (466151, 5)\n"
     ]
    }
   ],
   "source": [
    "print(\"Grouping by IncidentId and creating tokenized sequences...\")\n",
    "\n",
    "def tokenize_and_pad_list(values_list: list, vocab: dict) -> list:\n",
    "    tokens = [vocab.get(val, 0) for val in values_list] \n",
    "    tokens = tokens[:MAX_SEQ_LENGTH]\n",
    "    padding_needed = MAX_SEQ_LENGTH - len(tokens)\n",
    "    return tokens + [vocab['[PAD]']] * padding_needed\n",
    "\n",
    "sequential_data = (\n",
    "    raw_df.sort(['IncidentId', 'Timestamp'])\n",
    "          .group_by('IncidentId')\n",
    "          .agg([\n",
    "              pl.col(col).fill_null('[NULL]').alias(f'{col}_list')\n",
    "              for col in sequential_features\n",
    "          ])\n",
    ")\n",
    "\n",
    "for col in sequential_features:\n",
    "    sequential_data = sequential_data.with_columns(\n",
    "        pl.col(f'{col}_list').map_elements(\n",
    "            lambda values_list: tokenize_and_pad_list(values_list, vocabularies[col]),\n",
    "            return_dtype=pl.List(pl.Int32)\n",
    "        ).alias(f'{col}_seq')\n",
    "    ).drop(f'{col}_list')\n",
    "\n",
    "print(\"Tokenization complete.\")\n",
    "print(\"Shape of sequential data:\", sequential_data.shape)"
   ]
  },
  {
   "cell_type": "code",
   "execution_count": 6,
   "id": "80052aef",
   "metadata": {},
   "outputs": [
    {
     "name": "stdout",
     "output_type": "stream",
     "text": [
      "Preparing static features and labels...\n"
     ]
    }
   ],
   "source": [
    "print(\"Preparing static features and labels...\")\n",
    "org_id_map = raw_df.group_by('IncidentId').agg(pl.first('OrgId'))\n",
    "\n",
    "final_dl_data = (\n",
    "    sequential_data.join(incident_features_df, on='IncidentId', how='left').join(org_id_map, on='IncidentId', how='left')\n",
    ")\n",
    "\n",
    "label_col = 'IncidentGrade'\n",
    "final_dl_data = final_dl_data.select(\n",
    "    ['IncidentId', label_col] + [f'{col}_seq' for col in sequential_features] + static_features\n",
    ").drop_nulls()"
   ]
  },
  {
   "cell_type": "code",
   "execution_count": 7,
   "id": "2bc184f7",
   "metadata": {},
   "outputs": [
    {
     "name": "stdout",
     "output_type": "stream",
     "text": [
      "Saving final processed dataset for PyTorch to ..\\data\\processed_dl\n",
      "\n",
      " Data Preparation Complete\n",
      "Final dataset shape: (567609, 12)\n",
      "\n",
      "Schema of the final dataframe:\n",
      "Schema({'IncidentId': Int64, 'IncidentGrade': String, 'Category_seq': List(Int32), 'DetectorId_seq': List(Int32), 'EntityType_seq': List(Int32), 'MitreTechniques_seq': List(Int32), 'OrgId': Int64, 'evidence_count': UInt32, 'unique_alert_count': UInt32, 'incident_duration_seconds': Int64, 'evidence_rate': Float64, 'alert_rate': Float64})\n",
      "\n",
      "Example of a processed incident:\n",
      "shape: (1, 12)\n",
      "┌───────────┬───────────┬───────────┬───────────┬───┬───────────┬───────────┬───────────┬──────────┐\n",
      "│ IncidentI ┆ IncidentG ┆ Category_ ┆ DetectorI ┆ … ┆ unique_al ┆ incident_ ┆ evidence_ ┆ alert_ra │\n",
      "│ d         ┆ rade      ┆ seq       ┆ d_seq     ┆   ┆ ert_count ┆ duration_ ┆ rate      ┆ te       │\n",
      "│ ---       ┆ ---       ┆ ---       ┆ ---       ┆   ┆ ---       ┆ seconds   ┆ ---       ┆ ---      │\n",
      "│ i64       ┆ str       ┆ list[i32] ┆ list[i32] ┆   ┆ u32       ┆ ---       ┆ f64       ┆ f64      │\n",
      "│           ┆           ┆           ┆           ┆   ┆           ┆ i64       ┆           ┆          │\n",
      "╞═══════════╪═══════════╪═══════════╪═══════════╪═══╪═══════════╪═══════════╪═══════════╪══════════╡\n",
      "│ 0         ┆ TruePosit ┆ [16, 16,  ┆ [3104,    ┆ … ┆ 3027      ┆ 825528    ┆ 0.036337  ┆ 0.003667 │\n",
      "│           ┆ ive       ┆ … 16]     ┆ 3104, …   ┆   ┆           ┆           ┆           ┆          │\n",
      "│           ┆           ┆           ┆ 3104]     ┆   ┆           ┆           ┆           ┆          │\n",
      "└───────────┴───────────┴───────────┴───────────┴───┴───────────┴───────────┴───────────┴──────────┘\n"
     ]
    }
   ],
   "source": [
    "# Save the final processed dataset\n",
    "print(f\"Saving final processed dataset for PyTorch to {DL_PROCESSED_DATA_DIR}\")\n",
    "final_dl_data.write_parquet(DL_PROCESSED_DATA_DIR / 'train_sequential_data.parquet')\n",
    "\n",
    "print(\"\\n Data Preparation Complete\")\n",
    "print(\"Final dataset shape:\", final_dl_data.shape)\n",
    "print(\"\\nSchema of the final dataframe:\")\n",
    "print(final_dl_data.schema)\n",
    "print(\"\\nExample of a processed incident:\")\n",
    "print(final_dl_data.head(1))"
   ]
  },
  {
   "cell_type": "code",
   "execution_count": 8,
   "id": "036c6d19",
   "metadata": {},
   "outputs": [
    {
     "data": {
      "text/html": [
       "<div><style>\n",
       ".dataframe > thead > tr,\n",
       ".dataframe > tbody > tr {\n",
       "  text-align: right;\n",
       "  white-space: pre-wrap;\n",
       "}\n",
       "</style>\n",
       "<small>shape: (5, 12)</small><table border=\"1\" class=\"dataframe\"><thead><tr><th>IncidentId</th><th>IncidentGrade</th><th>Category_seq</th><th>DetectorId_seq</th><th>EntityType_seq</th><th>MitreTechniques_seq</th><th>OrgId</th><th>evidence_count</th><th>unique_alert_count</th><th>incident_duration_seconds</th><th>evidence_rate</th><th>alert_rate</th></tr><tr><td>i64</td><td>str</td><td>list[i32]</td><td>list[i32]</td><td>list[i32]</td><td>list[i32]</td><td>i64</td><td>u32</td><td>u32</td><td>i64</td><td>f64</td><td>f64</td></tr></thead><tbody><tr><td>0</td><td>&quot;TruePositive&quot;</td><td>[16, 16, … 16]</td><td>[3104, 3104, … 3104]</td><td>[2, 2, … 2]</td><td>[840, 840, … 840]</td><td>50</td><td>29997</td><td>3027</td><td>825528</td><td>0.036337</td><td>0.003667</td></tr><tr><td>2</td><td>&quot;TruePositive&quot;</td><td>[17, 17, … 17]</td><td>[2429, 2429, … 2429]</td><td>[6, 28, … 28]</td><td>[1053, 1053, … 1053]</td><td>42</td><td>20525</td><td>5372</td><td>252222</td><td>0.081377</td><td>0.021299</td></tr><tr><td>2</td><td>&quot;BenignPositive&quot;</td><td>[17, 17, … 17]</td><td>[2429, 2429, … 2429]</td><td>[6, 28, … 28]</td><td>[1053, 1053, … 1053]</td><td>42</td><td>20525</td><td>5372</td><td>252222</td><td>0.081377</td><td>0.021299</td></tr><tr><td>3</td><td>&quot;TruePositive&quot;</td><td>[5, 5, … 0]</td><td>[6926, 6926, … 0]</td><td>[29, 10, … 0]</td><td>[1053, 1053, … 0]</td><td>457</td><td>3</td><td>1</td><td>1</td><td>3.0</td><td>1.0</td></tr><tr><td>7</td><td>&quot;FalsePositive&quot;</td><td>[18, 18, … 18]</td><td>[1460, 1460, … 1460]</td><td>[2, 2, … 2]</td><td>[1053, 1053, … 1053]</td><td>14</td><td>12252</td><td>73</td><td>1932573</td><td>0.00634</td><td>0.000038</td></tr></tbody></table></div>"
      ],
      "text/plain": [
       "shape: (5, 12)\n",
       "┌───────────┬───────────┬───────────┬───────────┬───┬───────────┬───────────┬───────────┬──────────┐\n",
       "│ IncidentI ┆ IncidentG ┆ Category_ ┆ DetectorI ┆ … ┆ unique_al ┆ incident_ ┆ evidence_ ┆ alert_ra │\n",
       "│ d         ┆ rade      ┆ seq       ┆ d_seq     ┆   ┆ ert_count ┆ duration_ ┆ rate      ┆ te       │\n",
       "│ ---       ┆ ---       ┆ ---       ┆ ---       ┆   ┆ ---       ┆ seconds   ┆ ---       ┆ ---      │\n",
       "│ i64       ┆ str       ┆ list[i32] ┆ list[i32] ┆   ┆ u32       ┆ ---       ┆ f64       ┆ f64      │\n",
       "│           ┆           ┆           ┆           ┆   ┆           ┆ i64       ┆           ┆          │\n",
       "╞═══════════╪═══════════╪═══════════╪═══════════╪═══╪═══════════╪═══════════╪═══════════╪══════════╡\n",
       "│ 0         ┆ TruePosit ┆ [16, 16,  ┆ [3104,    ┆ … ┆ 3027      ┆ 825528    ┆ 0.036337  ┆ 0.003667 │\n",
       "│           ┆ ive       ┆ … 16]     ┆ 3104, …   ┆   ┆           ┆           ┆           ┆          │\n",
       "│           ┆           ┆           ┆ 3104]     ┆   ┆           ┆           ┆           ┆          │\n",
       "│ 2         ┆ TruePosit ┆ [17, 17,  ┆ [2429,    ┆ … ┆ 5372      ┆ 252222    ┆ 0.081377  ┆ 0.021299 │\n",
       "│           ┆ ive       ┆ … 17]     ┆ 2429, …   ┆   ┆           ┆           ┆           ┆          │\n",
       "│           ┆           ┆           ┆ 2429]     ┆   ┆           ┆           ┆           ┆          │\n",
       "│ 2         ┆ BenignPos ┆ [17, 17,  ┆ [2429,    ┆ … ┆ 5372      ┆ 252222    ┆ 0.081377  ┆ 0.021299 │\n",
       "│           ┆ itive     ┆ … 17]     ┆ 2429, …   ┆   ┆           ┆           ┆           ┆          │\n",
       "│           ┆           ┆           ┆ 2429]     ┆   ┆           ┆           ┆           ┆          │\n",
       "│ 3         ┆ TruePosit ┆ [5, 5, …  ┆ [6926,    ┆ … ┆ 1         ┆ 1         ┆ 3.0       ┆ 1.0      │\n",
       "│           ┆ ive       ┆ 0]        ┆ 6926, …   ┆   ┆           ┆           ┆           ┆          │\n",
       "│           ┆           ┆           ┆ 0]        ┆   ┆           ┆           ┆           ┆          │\n",
       "│ 7         ┆ FalsePosi ┆ [18, 18,  ┆ [1460,    ┆ … ┆ 73        ┆ 1932573   ┆ 0.00634   ┆ 0.000038 │\n",
       "│           ┆ tive      ┆ … 18]     ┆ 1460, …   ┆   ┆           ┆           ┆           ┆          │\n",
       "│           ┆           ┆           ┆ 1460]     ┆   ┆           ┆           ┆           ┆          │\n",
       "└───────────┴───────────┴───────────┴───────────┴───┴───────────┴───────────┴───────────┴──────────┘"
      ]
     },
     "execution_count": 8,
     "metadata": {},
     "output_type": "execute_result"
    }
   ],
   "source": [
    "final_dl_data.head()"
   ]
  },
  {
   "cell_type": "markdown",
   "id": "cd753def",
   "metadata": {},
   "source": [
    "# Transformer"
   ]
  },
  {
   "cell_type": "code",
   "execution_count": 1,
   "id": "026b4f5d",
   "metadata": {},
   "outputs": [],
   "source": [
    "import torch\n",
    "import torch.nn as nn\n",
    "from torch.utils.data import Dataset, DataLoader\n",
    "import pytorch_lightning as pl\n",
    "import pandas as pd\n",
    "import numpy as np\n",
    "from pathlib import Path\n"
   ]
  },
  {
   "cell_type": "code",
   "execution_count": null,
   "id": "ae16fb15",
   "metadata": {},
   "outputs": [],
   "source": [
    "# Configuration \n",
    "DL_PROCESSED_DATA_DIR = Path('../data/processed_dl/')\n",
    "VOCAB_PATH = DL_PROCESSED_DATA_DIR / 'vocabularies.pkl'\n",
    "TRAIN_DATA_PATH = DL_PROCESSED_DATA_DIR / 'train_sequential_data.parquet'"
   ]
  },
  {
   "cell_type": "code",
   "execution_count": 12,
   "id": "3c7d8083",
   "metadata": {},
   "outputs": [],
   "source": [
    "# PyTorch Dataset Class\n",
    "class IncidentDataset(Dataset):\n",
    "    def __init__(self, data_path, vocab_path):\n",
    "        super().__init__()\n",
    "        self.df = pd.read_parquet(data_path)\n",
    "\n",
    "        with open(vocab_path, 'rb') as f:\n",
    "            self.vocabs = pickle.load(f)\n",
    "\n",
    "        self.labels, self.class_names = pd.factorize(self.df['IncidentGrade'])\n",
    "\n",
    "        # Define feature columns\n",
    "        self.sequential_cols = [c for c in self.df.columns if '_seq' in c]\n",
    "        self.static_cols = [\n",
    "            'OrgId', 'evidence_count', 'unique_alert_count', \n",
    "            'incident_duration_seconds', 'evidence_rate', 'alert_rate'\n",
    "        ]\n",
    "    \n",
    "    def __len__(self):\n",
    "        return len(self.df)\n",
    "    \n",
    "    def __getitem__(self, idx):\n",
    "        row = self.df.iloc[idx]\n",
    "    \n",
    "        sequences = {\n",
    "            col: torch.LongTensor(row[col])\n",
    "            for col in self.sequential_cols\n",
    "        }\n",
    "\n",
    "        static_data = torch.FloatTensor([row[col] for col in self.static_cols])\n",
    "\n",
    "        label = torch.LongTensor([self.labels[idx]])\n",
    "\n",
    "        return sequences, static_data, label"
   ]
  },
  {
   "cell_type": "code",
   "execution_count": null,
   "id": "d623cff5",
   "metadata": {},
   "outputs": [
    {
     "name": "stdout",
     "output_type": "stream",
     "text": [
      "Initializing and testing the PyTorch Dataset...\n",
      "Dataset initialised successfully\n",
      "Example item from dataset:\n",
      "Sequences keys: dict_keys(['Category_seq', 'DetectorId_seq', 'EntityType_seq', 'MitreTechniques_seq'])\n",
      "DetectorId_seq shape: torch.Size([128])\n",
      "Static data shape: torch.Size([6])\n",
      "Label shape: torch.Size([1])\n",
      "Total number of classes: 3\n"
     ]
    }
   ],
   "source": [
    "# Testing Dataset\n",
    "print(\"Initializing and testing the PyTorch Dataset...\")\n",
    "dataset = IncidentDataset(TRAIN_DATA_PATH, VOCAB_PATH)\n",
    "sequences, static_data, label = dataset[0]\n",
    "\n",
    "print(\"Dataset initialised successfully\")\n",
    "print(\"Example item from dataset:\")\n",
    "print(\"Sequences keys:\", sequences.keys())\n",
    "print(\"DetectorId_seq shape:\", sequences['DetectorId_seq'].shape)\n",
    "print(\"Static data shape:\", static_data.shape)\n",
    "print(\"Label shape:\", label.shape)\n",
    "print(f\"Total number of classes: {len(dataset.class_names)}\")"
   ]
  },
  {
   "cell_type": "code",
   "execution_count": null,
   "id": "ead89101",
   "metadata": {},
   "outputs": [],
   "source": [
    "# 2. Model Architecture\n",
    "class IncidentTransformer(nn.Module):\n",
    "    def __init__(self, vocab_sizes, num_static_features, num_classes, embed_dim=64, nhead=4, num_encoder_layers=2, dim_feedforward=256, dropout=0.1):\n",
    "        super().__init__()\n",
    "        self.vocab_sizes = vocab_sizes\n",
    "        \n",
    "        self.embeddings = nn.ModuleDict({\n",
    "            f'embed_{name}': nn.Embedding(size, embed_dim, padding_idx=0)\n",
    "            for name, size in vocab_sizes.items()\n",
    "        })\n",
    "        \n",
    "        total_seq_embed_dim = embed_dim * len(vocab_sizes) \n",
    "        \n",
    "        # Transformer Encoder \n",
    "        encoder_layer = nn.TransformerEncoderLayer(\n",
    "            d_model=total_seq_embed_dim, nhead=nhead, \n",
    "            dim_feedforward=dim_feedforward, dropout=dropout, batch_first=True\n",
    "        )\n",
    "        self.transformer_encoder = nn.TransformerEncoder(encoder_layer, num_layers=num_encoder_layers)\n",
    "        \n",
    "        # MLP for Static Features \n",
    "        self.static_mlp = nn.Sequential(\n",
    "            nn.Linear(num_static_features, embed_dim * 2),\n",
    "            nn.BatchNorm1d(embed_dim * 2),\n",
    "            nn.ReLU(),\n",
    "            nn.Dropout(dropout),\n",
    "            nn.Linear(embed_dim * 2, embed_dim)\n",
    "        )\n",
    "        \n",
    "        # Final Classifier\n",
    "        self.classifier = nn.Sequential(\n",
    "            nn.Linear(total_seq_embed_dim + embed_dim, embed_dim),\n",
    "            nn.ReLU(),\n",
    "            nn.Linear(embed_dim, num_classes)\n",
    "        )\n",
    "\n",
    "    def forward(self, sequences, static_data):\n",
    "        # 1. Process Sequences\n",
    "        all_embeds = [self.embeddings[f'embed_{name}'](sequences[f'{name}_seq']) \n",
    "                      for name in self.vocab_sizes.keys()]\n",
    "        concatenated_embeds = torch.cat(all_embeds, dim=2)\n",
    "        \n",
    "        padding_mask = (sequences['Category_seq'] == 0) \n",
    "\n",
    "        transformer_out = self.transformer_encoder(concatenated_embeds, src_key_padding_mask=padding_mask)\n",
    "        \n",
    "        transformer_out[padding_mask] = 0 \n",
    "        pooled_out = transformer_out.sum(dim=1) / (~padding_mask).sum(dim=1, keepdim=True)\n",
    "\n",
    "        # 2. Process Static Features\n",
    "        static_out = self.static_mlp(static_data)\n",
    "        \n",
    "        # 3. Combine and Classify\n",
    "        combined = torch.cat([pooled_out, static_out], dim=1)\n",
    "        logits = self.classifier(combined)\n",
    "        \n",
    "        return logits"
   ]
  },
  {
   "cell_type": "code",
   "execution_count": null,
   "id": "7fe56693",
   "metadata": {},
   "outputs": [
    {
     "name": "stdout",
     "output_type": "stream",
     "text": [
      "\n",
      "Initializing and testing the Transformer model architecture...\n",
      "Model initialized successfully.\n",
      "Output logits shape (batch_size, num_classes): torch.Size([4, 3])\n"
     ]
    }
   ],
   "source": [
    "# Test the Model\n",
    "print(\"\\nInitializing and testing the Transformer model architecture...\")\n",
    "vocab_sizes = {name: len(vocab) for name, vocab in dataset.vocabs.items()}\n",
    "num_static_features = len(dataset.static_cols)\n",
    "num_classes = len(dataset.class_names)\n",
    "\n",
    "# Create a dummy batch of data to test the forward pass\n",
    "dummy_loader = DataLoader(dataset, batch_size=4)\n",
    "sequences_batch, static_batch, _ = next(iter(dummy_loader))\n",
    "\n",
    "model = IncidentTransformer(vocab_sizes, num_static_features, num_classes)\n",
    "\n",
    "# Test the forward pass\n",
    "with torch.no_grad():\n",
    "    logits = model(sequences_batch, static_batch)\n",
    "\n",
    "print(\"Model initialized successfully.\")\n",
    "print(\"Output logits shape (batch_size, num_classes):\", logits.shape)\n"
   ]
  },
  {
   "cell_type": "code",
   "execution_count": null,
   "id": "dc47b932",
   "metadata": {},
   "outputs": [],
   "source": []
  }
 ],
 "metadata": {
  "kernelspec": {
   "display_name": ".venv",
   "language": "python",
   "name": "python3"
  },
  "language_info": {
   "codemirror_mode": {
    "name": "ipython",
    "version": 3
   },
   "file_extension": ".py",
   "mimetype": "text/x-python",
   "name": "python",
   "nbconvert_exporter": "python",
   "pygments_lexer": "ipython3",
   "version": "3.13.7"
  }
 },
 "nbformat": 4,
 "nbformat_minor": 5
}
